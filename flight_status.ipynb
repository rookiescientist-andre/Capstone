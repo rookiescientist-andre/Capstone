{
 "cells": [
  {
   "cell_type": "markdown",
   "metadata": {},
   "source": [
    "# What's My Flight Status?: Using Flight Data to Predict Flight Delays\n",
    "***\n",
    "Author: Andre Layton\n",
    "***\n",
    "\n",
    "## Overview\n",
    "\n",
    "One of the most common applications of supervised learning in the aviation industry is predicting flight delays. By analyzing historical data on flight delays, machine learning and deep learning algorithms can identify patterns and factors that correlate with delays. This information can then be used to predict if a particular flight is likely to be delayed. Carriers can use these predictions to take preemptive measures, such as adjusting schedules or re-routing passengers, in order to minimize the impact of delays.\n",
    "\n",
    "## Business Problem\n",
    "\n",
    "I’ve been hired to create an algorithm that can predict flight delays, which will eventually be deployed as an app for consumers to be able to track their flights. This is beneficial to both the airline and potential passengers – for the airline, it will help with flight logistics and reduce fees due to delays (i.e. tarmac fees, reimbursements, etc.). For passengers, the app will allow them to make delay arrangements and take measures ahead of time, and possibly save on delay expenses. While delays are frustrating whether expected or not, United aims to use this strategy to display company honesty and gain more control over their flights.\n",
    "\n",
    ">Note: The ultimate objective is to develop an app for consumer use, but within the constraints of this analysis, the model will be saved and stored in the repository [here.](/best_model.h5)"
   ]
  },
  {
   "cell_type": "markdown",
   "metadata": {},
   "source": [
    "<img src=\"https://res.cloudinary.com/sagacity/image/upload/c_crop,h_2799,w_4199,x_0,y_0/c_limit,dpr_auto,f_auto,fl_lossy,q_80,w_1080/shutterstock_402702424_dlgrgk.jpg\" style=\"height:650px\" />"
   ]
  },
  {
   "cell_type": "markdown",
   "metadata": {},
   "source": [
    "## Data Understanding \n",
    "\n",
    "To start, I import all the necessary packages, and I set a seed for reproducibility purposes. Then, I begin loading the data, which is split into two files - a text file (`.txt`) and a CSV file (`.csv`). The text file contains the metadata, which in this case contains various column names and a short description. The CSV file contains the flight data needed for analysis."
   ]
  },
  {
   "cell_type": "code",
   "execution_count": 1,
   "metadata": {},
   "outputs": [],
   "source": [
    "# Import relevant libraries\n",
    "import pandas as pd\n",
    "import numpy as np\n",
    "from matplotlib import pyplot as plt\n",
    "import matplotlib.ticker as ticker\n",
    "from matplotlib.ticker import AutoMinorLocator\n",
    "import seaborn as sns\n",
    "%matplotlib inline\n",
    "plt.style.use('ggplot')\n",
    "\n",
    "from imblearn.pipeline import make_pipeline\n",
    "from sklearn.pipeline import Pipeline\n",
    "from sklearn.decomposition import PCA\n",
    "from sklearn.model_selection import train_test_split, GridSearchCV, cross_validate\n",
    "from imblearn.under_sampling import RandomUnderSampler\n",
    "from sklearn.preprocessing import MinMaxScaler\n",
    "from sklearn.metrics import precision_score, recall_score, f1_score, confusion_matrix, classification_report,\\\n",
    "                            ConfusionMatrixDisplay, make_scorer\n",
    "from sklearn.tree import DecisionTreeClassifier\n",
    "from sklearn.ensemble import RandomForestClassifier, GradientBoostingClassifier, AdaBoostClassifier\n",
    "\n",
    "from tensorflow.keras.models import Sequential, load_model\n",
    "from tensorflow.keras.layers import Dense\n",
    "from tensorflow.keras.callbacks import EarlyStopping, ModelCheckpoint\n",
    "from tensorflow.keras import regularizers, optimizers\n",
    "\n",
    "# Create a seed for reproducibility\n",
    "seed=24"
   ]
  },
  {
   "cell_type": "code",
   "execution_count": 2,
   "metadata": {
    "scrolled": true
   },
   "outputs": [
    {
     "name": "stdout",
     "output_type": "stream",
     "text": [
      "AIRPORT_COORDINATES\n",
      "\tORIGIN_AIRPORT_ID: \tAirport ID, matches to ORIGIN_AIRPORT_ID in other files\n",
      "\tDISPLAY_AIRPORT_NAME:  \tDisplay Airport, matches to DISPLAY_AIRPORT_NAME in other files\n",
      "\tLATITUDE: \t\tLatitude for airport\n",
      "\tLONGITUDE: \t\tLongitude for airport\n",
      "\n",
      "B43_AIRCRAFT_INVENTORY\n",
      "\tMANUFACTURE_YEAR: \tManufacture year\n",
      "\tTAIL_NUM: \t\tUnique tail number, matches to TAIL_NUM in other files\n",
      "\tNUMBER_OF_SEATS: \tNumber of seats on aircraft\n",
      "\t\n",
      "CARRIER_DECODE\n",
      "\tAIRLINE_ID: \t\tAirport ID, matches to AIRLINE_ID in other files\n",
      "\tOP_UNIQUE_CARRIER: \tCarrier code, matches to OP_UNIQUE_CARRIER in other files\n",
      "\tCARRIER_NAME: \t\tCarrier name, matches to UNIQUE_CARRIER_NAME or CARRIER_NAME in other files\n",
      "\n",
      "ONTIME_REPORTING_XX\n",
      "\tMONTH: \t\t\tMonth\n",
      "\tDAY_OF_MONTH: \t\tDay of the month (1-31)\n",
      "\tDAY_OF_WEEK: \t\tDay of the week\n",
      "\tOP_UNIQUE_CARRIER: \tCarrier code, matches to OP_UNIQUE_CARRIER in other files\n",
      "\tTAIL_NUM: \t\tUnique tail number, matches to TAIL_NUM in other files\n",
      "\tOP_CARRIER_FL_NUM: \tFlight number\n",
      "\tORIGIN_AIRPORT_ID: \tAirport ID, matches to ORIGIN_AIRPORT_ID in other files\n",
      "\tORIGIN: \t\tOrigin airport abbreviation\n",
      "\tORIGIN_CITY_NAME: \tOrigin city name\n",
      "\tDEST_AIRPORT_ID: \tDestination airport ID, matches Airport ID in other files\n",
      "\tDEST: \t\t\tDestination airport abbreviation\n",
      "\tDEST_CITY_NAME: \tDestination city name\n",
      "\tCRS_DEP_TIME: \t\tPlanned departure time\n",
      "\tDEP_TIME: \t\tActual departure time\n",
      "\tDEP_DELAY_NEW: \t\tDeparture delay in minutes\n",
      "\tDEP_DEL15:\t\tTARGET VARIABLE Binary if delayed over 15 min, 1 is yes\n",
      "\tDEP_TIME_BLK:\t\tDeparture time block\n",
      "\tCRS_ARR_TIME:\t\tPlanned arrival time\n",
      "\tARR_TIME:\t\tActual arrival time\n",
      "\tARR_DELAY_NEW:\t\tArrival delay in minutes\n",
      "\tARR_TIME_BLK:\t\tArrival time block\n",
      "\tCANCELLED:\t\tFlag if flight was cancelled\n",
      "\tCANCELLATION_CODE:\tCancellation Code\n",
      "\tCRS_ELAPSED_TIME:\tFlight planned elapsed time\n",
      "\tACTUAL_ELAPSED_TIME:\tFlight actual elapsed time\n",
      "\tDISTANCE:\t\tFlight Distance in miles\n",
      "\tDISTANCE_GROUP:\t\tFlight distance group\n",
      "\tCARRIER_DELAY:\t\tFlag for a carrier delay\n",
      "\tWEATHER_DELAY:\t\tFlag for a weather delay\n",
      "\tNAS_DELAY:\t\tFlag for a NAS delay\n",
      "\tSECURITY_DELAY:\t\tFlag for a security delay\n",
      "\tLATE_AIRCRAFT_DELAY:\tFlag for a late aircraft delay\n",
      "\n",
      "P10_EMPLOYEES\n",
      "\tYEAR: \t\t\tYear\n",
      "\tAIRLINE_ID: \t\tAirport ID, matches to AIRLINE_ID in other files\n",
      "\tOP_UNIQUE_CARRIER: \tCarrier code, matches to OP_UNIQUE_CARRIER in other files\n",
      "\tUNIQUE_CARRIER_NAME: \tCarrier name, matches to UNIQUE_CARRIER_NAME in other files\n",
      "\tCARRIER: \t\tCarrier abbreviation\n",
      "\tCARRIER_NAME: \t\tCarrier name, matches to UNIQUE_CARRIER_NAME or CARRIER_NAME in other files\n",
      "\tENTITY:\t\t\t\n",
      "\tGENERAL_MANAGE:\t\tGeneral managers\n",
      "\tPILOTS_COPILOTS:\tPilots/Copilots\n",
      "\tOTHER_FLT_PERS:\t\tOther flight personnel\n",
      "\tPASS_GEN_SVC_ADMIN:\tPassenger/General Services & Administration\n",
      "\tMAINTENANCE:\t\tMaintenance Employees\n",
      "\tARCFT_TRAF_HANDLING_GRP1: Aircraft Traffic Handling Group1 Employees\n",
      "\tGEN_ARCFT_TRAF_HANDLING\t: General Aircraft Traffic Handling Employees\n",
      "\tAIRCRAFT_CONTROL:\tAircraft Control Employees\n",
      "\tPASSENGER_HANDLING:\tPassenger Handling Employees\n",
      "\tCARGO_HANDLING:\t\tCargo Handling Employees\n",
      "\tTRAINEES_INTRUCTOR:\tTrainees and Instructor\n",
      "\tSTATISTICAL:\t\tStatistical Employees\n",
      "\tTRAFFIC_SOLICITERS:\tTraffic Soliciters\n",
      "\tOTHER:\t\t\tOther Employees\n",
      "\tTRANSPORT_RELATED:\tTransport Related Employees\n",
      "\tTOTAL:\t\t\tTotal employees\n",
      "\n",
      "T3_AIR_CARRIER_SUMMARY_AIRPORT_ACTIVITY_XXXX\n",
      "\tOP_UNIQUE_CARRIER: \tCarrier code, matches to OP_UNIQUE_CARRIER in other files\n",
      "\tCARRIER_NAME: \t\tCarrier name, matches to UNIQUE_CARRIER_NAME or CARRIER_NAME in other files\n",
      "\tORIGIN_AIRPORT_ID: \tAirport ID, matches to ORIGIN_AIRPORT_ID in other files\n",
      "\tSERVICE_CLASS: \t\tService class of flight (required in download)\n",
      "\tREV_ACRFT_DEP_PERF_510: Departures performed for year\n",
      "\tREV_PAX_ENP_110: \tPassengers enplaned for year\n",
      "\n",
      "airports_list\n",
      "\tORIGIN_AIRPORT_ID: \tAirport ID, matches to ORIGIN_AIRPORT_ID in other files\n",
      "\tDISPLAY_AIRPORT_NAME: \tDisplay Airport, matches to DISPLAY_AIRPORT_NAME in other files\n",
      "\tORIGIN_CITY_NAME: \tCity\n",
      "\tNAME: \t\t\tMatches to NAME in airport_weather\n",
      "\n",
      "\n",
      "airport_weather_xxxx\n",
      "\tSee GHCND_documentation.pdf for full list\n",
      "\tImportant features:\n",
      "\tNAME: \t\t\tLocation of reading\n",
      "\tPRCP: \t\t\tInches of precipitation for day\n",
      "\tSNOW: \t\t\tInches of snowfall for day\n",
      "\tSNWD: \t\t\tInches of snow on ground for day\n",
      "\tTMAX: \t\t\tMax temperature for day\n",
      "\tAWND: \t\t\tMax wind speed for day\n",
      "\n",
      "\n"
     ]
    }
   ],
   "source": [
    "# Load the metadata (column descriptions)\n",
    "metadata = open(\"data/raw_data_documentation.txt\", \"r\")\n",
    "print(metadata.read())"
   ]
  },
  {
   "cell_type": "code",
   "execution_count": 3,
   "metadata": {},
   "outputs": [
    {
     "data": {
      "text/html": [
       "<div>\n",
       "<style scoped>\n",
       "    .dataframe tbody tr th:only-of-type {\n",
       "        vertical-align: middle;\n",
       "    }\n",
       "\n",
       "    .dataframe tbody tr th {\n",
       "        vertical-align: top;\n",
       "    }\n",
       "\n",
       "    .dataframe thead th {\n",
       "        text-align: right;\n",
       "    }\n",
       "</style>\n",
       "<table border=\"1\" class=\"dataframe\">\n",
       "  <thead>\n",
       "    <tr style=\"text-align: right;\">\n",
       "      <th></th>\n",
       "      <th>MONTH</th>\n",
       "      <th>DAY_OF_WEEK</th>\n",
       "      <th>DEP_DEL15</th>\n",
       "      <th>DEP_TIME_BLK</th>\n",
       "      <th>DISTANCE_GROUP</th>\n",
       "      <th>SEGMENT_NUMBER</th>\n",
       "      <th>CONCURRENT_FLIGHTS</th>\n",
       "      <th>NUMBER_OF_SEATS</th>\n",
       "      <th>CARRIER_NAME</th>\n",
       "      <th>AIRPORT_FLIGHTS_MONTH</th>\n",
       "      <th>...</th>\n",
       "      <th>PLANE_AGE</th>\n",
       "      <th>DEPARTING_AIRPORT</th>\n",
       "      <th>LATITUDE</th>\n",
       "      <th>LONGITUDE</th>\n",
       "      <th>PREVIOUS_AIRPORT</th>\n",
       "      <th>PRCP</th>\n",
       "      <th>SNOW</th>\n",
       "      <th>SNWD</th>\n",
       "      <th>TMAX</th>\n",
       "      <th>AWND</th>\n",
       "    </tr>\n",
       "  </thead>\n",
       "  <tbody>\n",
       "    <tr>\n",
       "      <th>0</th>\n",
       "      <td>1</td>\n",
       "      <td>7</td>\n",
       "      <td>0</td>\n",
       "      <td>0800-0859</td>\n",
       "      <td>2</td>\n",
       "      <td>1</td>\n",
       "      <td>25</td>\n",
       "      <td>143</td>\n",
       "      <td>Southwest Airlines Co.</td>\n",
       "      <td>13056</td>\n",
       "      <td>...</td>\n",
       "      <td>8</td>\n",
       "      <td>McCarran International</td>\n",
       "      <td>36.08</td>\n",
       "      <td>-115.152</td>\n",
       "      <td>NONE</td>\n",
       "      <td>0.0</td>\n",
       "      <td>0.0</td>\n",
       "      <td>0.0</td>\n",
       "      <td>65.0</td>\n",
       "      <td>2.91</td>\n",
       "    </tr>\n",
       "    <tr>\n",
       "      <th>1</th>\n",
       "      <td>1</td>\n",
       "      <td>7</td>\n",
       "      <td>0</td>\n",
       "      <td>0700-0759</td>\n",
       "      <td>7</td>\n",
       "      <td>1</td>\n",
       "      <td>29</td>\n",
       "      <td>191</td>\n",
       "      <td>Delta Air Lines Inc.</td>\n",
       "      <td>13056</td>\n",
       "      <td>...</td>\n",
       "      <td>3</td>\n",
       "      <td>McCarran International</td>\n",
       "      <td>36.08</td>\n",
       "      <td>-115.152</td>\n",
       "      <td>NONE</td>\n",
       "      <td>0.0</td>\n",
       "      <td>0.0</td>\n",
       "      <td>0.0</td>\n",
       "      <td>65.0</td>\n",
       "      <td>2.91</td>\n",
       "    </tr>\n",
       "    <tr>\n",
       "      <th>2</th>\n",
       "      <td>1</td>\n",
       "      <td>7</td>\n",
       "      <td>0</td>\n",
       "      <td>0600-0659</td>\n",
       "      <td>7</td>\n",
       "      <td>1</td>\n",
       "      <td>27</td>\n",
       "      <td>199</td>\n",
       "      <td>Delta Air Lines Inc.</td>\n",
       "      <td>13056</td>\n",
       "      <td>...</td>\n",
       "      <td>18</td>\n",
       "      <td>McCarran International</td>\n",
       "      <td>36.08</td>\n",
       "      <td>-115.152</td>\n",
       "      <td>NONE</td>\n",
       "      <td>0.0</td>\n",
       "      <td>0.0</td>\n",
       "      <td>0.0</td>\n",
       "      <td>65.0</td>\n",
       "      <td>2.91</td>\n",
       "    </tr>\n",
       "    <tr>\n",
       "      <th>3</th>\n",
       "      <td>1</td>\n",
       "      <td>7</td>\n",
       "      <td>0</td>\n",
       "      <td>0600-0659</td>\n",
       "      <td>9</td>\n",
       "      <td>1</td>\n",
       "      <td>27</td>\n",
       "      <td>180</td>\n",
       "      <td>Delta Air Lines Inc.</td>\n",
       "      <td>13056</td>\n",
       "      <td>...</td>\n",
       "      <td>2</td>\n",
       "      <td>McCarran International</td>\n",
       "      <td>36.08</td>\n",
       "      <td>-115.152</td>\n",
       "      <td>NONE</td>\n",
       "      <td>0.0</td>\n",
       "      <td>0.0</td>\n",
       "      <td>0.0</td>\n",
       "      <td>65.0</td>\n",
       "      <td>2.91</td>\n",
       "    </tr>\n",
       "    <tr>\n",
       "      <th>4</th>\n",
       "      <td>1</td>\n",
       "      <td>7</td>\n",
       "      <td>0</td>\n",
       "      <td>0001-0559</td>\n",
       "      <td>7</td>\n",
       "      <td>1</td>\n",
       "      <td>10</td>\n",
       "      <td>182</td>\n",
       "      <td>Spirit Air Lines</td>\n",
       "      <td>13056</td>\n",
       "      <td>...</td>\n",
       "      <td>1</td>\n",
       "      <td>McCarran International</td>\n",
       "      <td>36.08</td>\n",
       "      <td>-115.152</td>\n",
       "      <td>NONE</td>\n",
       "      <td>0.0</td>\n",
       "      <td>0.0</td>\n",
       "      <td>0.0</td>\n",
       "      <td>65.0</td>\n",
       "      <td>2.91</td>\n",
       "    </tr>\n",
       "    <tr>\n",
       "      <th>5</th>\n",
       "      <td>1</td>\n",
       "      <td>7</td>\n",
       "      <td>0</td>\n",
       "      <td>0001-0559</td>\n",
       "      <td>3</td>\n",
       "      <td>1</td>\n",
       "      <td>10</td>\n",
       "      <td>180</td>\n",
       "      <td>Frontier Airlines Inc.</td>\n",
       "      <td>13056</td>\n",
       "      <td>...</td>\n",
       "      <td>5</td>\n",
       "      <td>McCarran International</td>\n",
       "      <td>36.08</td>\n",
       "      <td>-115.152</td>\n",
       "      <td>NONE</td>\n",
       "      <td>0.0</td>\n",
       "      <td>0.0</td>\n",
       "      <td>0.0</td>\n",
       "      <td>65.0</td>\n",
       "      <td>2.91</td>\n",
       "    </tr>\n",
       "    <tr>\n",
       "      <th>6</th>\n",
       "      <td>1</td>\n",
       "      <td>7</td>\n",
       "      <td>0</td>\n",
       "      <td>0700-0759</td>\n",
       "      <td>6</td>\n",
       "      <td>1</td>\n",
       "      <td>29</td>\n",
       "      <td>186</td>\n",
       "      <td>Frontier Airlines Inc.</td>\n",
       "      <td>13056</td>\n",
       "      <td>...</td>\n",
       "      <td>2</td>\n",
       "      <td>McCarran International</td>\n",
       "      <td>36.08</td>\n",
       "      <td>-115.152</td>\n",
       "      <td>NONE</td>\n",
       "      <td>0.0</td>\n",
       "      <td>0.0</td>\n",
       "      <td>0.0</td>\n",
       "      <td>65.0</td>\n",
       "      <td>2.91</td>\n",
       "    </tr>\n",
       "    <tr>\n",
       "      <th>7</th>\n",
       "      <td>1</td>\n",
       "      <td>7</td>\n",
       "      <td>1</td>\n",
       "      <td>0001-0559</td>\n",
       "      <td>7</td>\n",
       "      <td>1</td>\n",
       "      <td>10</td>\n",
       "      <td>186</td>\n",
       "      <td>Frontier Airlines Inc.</td>\n",
       "      <td>13056</td>\n",
       "      <td>...</td>\n",
       "      <td>3</td>\n",
       "      <td>McCarran International</td>\n",
       "      <td>36.08</td>\n",
       "      <td>-115.152</td>\n",
       "      <td>NONE</td>\n",
       "      <td>0.0</td>\n",
       "      <td>0.0</td>\n",
       "      <td>0.0</td>\n",
       "      <td>65.0</td>\n",
       "      <td>2.91</td>\n",
       "    </tr>\n",
       "    <tr>\n",
       "      <th>8</th>\n",
       "      <td>1</td>\n",
       "      <td>7</td>\n",
       "      <td>0</td>\n",
       "      <td>0001-0559</td>\n",
       "      <td>7</td>\n",
       "      <td>1</td>\n",
       "      <td>10</td>\n",
       "      <td>180</td>\n",
       "      <td>Frontier Airlines Inc.</td>\n",
       "      <td>13056</td>\n",
       "      <td>...</td>\n",
       "      <td>3</td>\n",
       "      <td>McCarran International</td>\n",
       "      <td>36.08</td>\n",
       "      <td>-115.152</td>\n",
       "      <td>NONE</td>\n",
       "      <td>0.0</td>\n",
       "      <td>0.0</td>\n",
       "      <td>0.0</td>\n",
       "      <td>65.0</td>\n",
       "      <td>2.91</td>\n",
       "    </tr>\n",
       "    <tr>\n",
       "      <th>9</th>\n",
       "      <td>1</td>\n",
       "      <td>7</td>\n",
       "      <td>0</td>\n",
       "      <td>0600-0659</td>\n",
       "      <td>8</td>\n",
       "      <td>1</td>\n",
       "      <td>27</td>\n",
       "      <td>186</td>\n",
       "      <td>Frontier Airlines Inc.</td>\n",
       "      <td>13056</td>\n",
       "      <td>...</td>\n",
       "      <td>1</td>\n",
       "      <td>McCarran International</td>\n",
       "      <td>36.08</td>\n",
       "      <td>-115.152</td>\n",
       "      <td>NONE</td>\n",
       "      <td>0.0</td>\n",
       "      <td>0.0</td>\n",
       "      <td>0.0</td>\n",
       "      <td>65.0</td>\n",
       "      <td>2.91</td>\n",
       "    </tr>\n",
       "  </tbody>\n",
       "</table>\n",
       "<p>10 rows × 26 columns</p>\n",
       "</div>"
      ],
      "text/plain": [
       "   MONTH  DAY_OF_WEEK  DEP_DEL15 DEP_TIME_BLK  DISTANCE_GROUP  SEGMENT_NUMBER  \\\n",
       "0      1            7          0    0800-0859               2               1   \n",
       "1      1            7          0    0700-0759               7               1   \n",
       "2      1            7          0    0600-0659               7               1   \n",
       "3      1            7          0    0600-0659               9               1   \n",
       "4      1            7          0    0001-0559               7               1   \n",
       "5      1            7          0    0001-0559               3               1   \n",
       "6      1            7          0    0700-0759               6               1   \n",
       "7      1            7          1    0001-0559               7               1   \n",
       "8      1            7          0    0001-0559               7               1   \n",
       "9      1            7          0    0600-0659               8               1   \n",
       "\n",
       "   CONCURRENT_FLIGHTS  NUMBER_OF_SEATS            CARRIER_NAME  \\\n",
       "0                  25              143  Southwest Airlines Co.   \n",
       "1                  29              191    Delta Air Lines Inc.   \n",
       "2                  27              199    Delta Air Lines Inc.   \n",
       "3                  27              180    Delta Air Lines Inc.   \n",
       "4                  10              182        Spirit Air Lines   \n",
       "5                  10              180  Frontier Airlines Inc.   \n",
       "6                  29              186  Frontier Airlines Inc.   \n",
       "7                  10              186  Frontier Airlines Inc.   \n",
       "8                  10              180  Frontier Airlines Inc.   \n",
       "9                  27              186  Frontier Airlines Inc.   \n",
       "\n",
       "   AIRPORT_FLIGHTS_MONTH  ...  PLANE_AGE       DEPARTING_AIRPORT  LATITUDE  \\\n",
       "0                  13056  ...          8  McCarran International     36.08   \n",
       "1                  13056  ...          3  McCarran International     36.08   \n",
       "2                  13056  ...         18  McCarran International     36.08   \n",
       "3                  13056  ...          2  McCarran International     36.08   \n",
       "4                  13056  ...          1  McCarran International     36.08   \n",
       "5                  13056  ...          5  McCarran International     36.08   \n",
       "6                  13056  ...          2  McCarran International     36.08   \n",
       "7                  13056  ...          3  McCarran International     36.08   \n",
       "8                  13056  ...          3  McCarran International     36.08   \n",
       "9                  13056  ...          1  McCarran International     36.08   \n",
       "\n",
       "   LONGITUDE  PREVIOUS_AIRPORT  PRCP  SNOW SNWD  TMAX  AWND  \n",
       "0   -115.152              NONE   0.0   0.0  0.0  65.0  2.91  \n",
       "1   -115.152              NONE   0.0   0.0  0.0  65.0  2.91  \n",
       "2   -115.152              NONE   0.0   0.0  0.0  65.0  2.91  \n",
       "3   -115.152              NONE   0.0   0.0  0.0  65.0  2.91  \n",
       "4   -115.152              NONE   0.0   0.0  0.0  65.0  2.91  \n",
       "5   -115.152              NONE   0.0   0.0  0.0  65.0  2.91  \n",
       "6   -115.152              NONE   0.0   0.0  0.0  65.0  2.91  \n",
       "7   -115.152              NONE   0.0   0.0  0.0  65.0  2.91  \n",
       "8   -115.152              NONE   0.0   0.0  0.0  65.0  2.91  \n",
       "9   -115.152              NONE   0.0   0.0  0.0  65.0  2.91  \n",
       "\n",
       "[10 rows x 26 columns]"
      ]
     },
     "execution_count": 3,
     "metadata": {},
     "output_type": "execute_result"
    }
   ],
   "source": [
    "# Load the flight data\n",
    "data = pd.read_csv('data/full_data_flightdelay.csv')\n",
    "\n",
    "# Preview the first 10 records\n",
    "data.head(10)"
   ]
  },
  {
   "cell_type": "markdown",
   "metadata": {},
   "source": [
    "The dataframe above gives me an initial look into the dataset, but I will apply a few more methods to gain a better understanding (i.e. `info()`, `isna()`, etc.). These techniques will help me learn more about my data, including the existence of any missing values and the data types of the columns. "
   ]
  },
  {
   "cell_type": "code",
   "execution_count": 4,
   "metadata": {
    "scrolled": false
   },
   "outputs": [
    {
     "name": "stdout",
     "output_type": "stream",
     "text": [
      "<class 'pandas.core.frame.DataFrame'>\n",
      "RangeIndex: 6489062 entries, 0 to 6489061\n",
      "Data columns (total 26 columns):\n",
      " #   Column                         Dtype  \n",
      "---  ------                         -----  \n",
      " 0   MONTH                          int64  \n",
      " 1   DAY_OF_WEEK                    int64  \n",
      " 2   DEP_DEL15                      int64  \n",
      " 3   DEP_TIME_BLK                   object \n",
      " 4   DISTANCE_GROUP                 int64  \n",
      " 5   SEGMENT_NUMBER                 int64  \n",
      " 6   CONCURRENT_FLIGHTS             int64  \n",
      " 7   NUMBER_OF_SEATS                int64  \n",
      " 8   CARRIER_NAME                   object \n",
      " 9   AIRPORT_FLIGHTS_MONTH          int64  \n",
      " 10  AIRLINE_FLIGHTS_MONTH          int64  \n",
      " 11  AIRLINE_AIRPORT_FLIGHTS_MONTH  int64  \n",
      " 12  AVG_MONTHLY_PASS_AIRPORT       int64  \n",
      " 13  AVG_MONTHLY_PASS_AIRLINE       int64  \n",
      " 14  FLT_ATTENDANTS_PER_PASS        float64\n",
      " 15  GROUND_SERV_PER_PASS           float64\n",
      " 16  PLANE_AGE                      int64  \n",
      " 17  DEPARTING_AIRPORT              object \n",
      " 18  LATITUDE                       float64\n",
      " 19  LONGITUDE                      float64\n",
      " 20  PREVIOUS_AIRPORT               object \n",
      " 21  PRCP                           float64\n",
      " 22  SNOW                           float64\n",
      " 23  SNWD                           float64\n",
      " 24  TMAX                           float64\n",
      " 25  AWND                           float64\n",
      "dtypes: float64(9), int64(13), object(4)\n",
      "memory usage: 1.3+ GB\n"
     ]
    }
   ],
   "source": [
    "# Print column information\n",
    "data.info()"
   ]
  },
  {
   "cell_type": "markdown",
   "metadata": {},
   "source": [
    "Initially, I can see the method above displays the data type for each feature. Another point is the amount of data present. There are over 6.4 million observations, which will need to be reduced considering I'm only interested in United Airlines flights. The method below filters out the records based on the airline, revealing there are over 600,000 observations that will be analyzed to build my algorithm. "
   ]
  },
  {
   "cell_type": "code",
   "execution_count": 5,
   "metadata": {},
   "outputs": [
    {
     "data": {
      "text/plain": [
       "Southwest Airlines Co.          1296329\n",
       "Delta Air Lines Inc.             938346\n",
       "American Airlines Inc.           903640\n",
       "United Air Lines Inc.            601044\n",
       "SkyWest Airlines Inc.            584204\n",
       "Midwest Airline, Inc.            300154\n",
       "JetBlue Airways                  269596\n",
       "Alaska Airlines Inc.             239337\n",
       "American Eagle Airlines Inc.     228792\n",
       "Comair Inc.                      219324\n",
       "Endeavor Air Inc.                203827\n",
       "Spirit Air Lines                 189419\n",
       "Mesa Airlines Inc.               177600\n",
       "Frontier Airlines Inc.           120872\n",
       "Atlantic Southeast Airlines       99044\n",
       "Hawaiian Airlines Inc.            74898\n",
       "Allegiant Air                     42636\n",
       "Name: CARRIER_NAME, dtype: int64"
      ]
     },
     "execution_count": 5,
     "metadata": {},
     "output_type": "execute_result"
    }
   ],
   "source": [
    "# Print airline information\n",
    "data['CARRIER_NAME'].value_counts()"
   ]
  },
  {
   "cell_type": "markdown",
   "metadata": {},
   "source": [
    "The first method also gives me an idea into whether there are any missing values in the dataset. To know for sure, I will apply some more methods that will take the sum of every missing value in each column and returns those values. I find that, fortunately, there are no missing values present in my data, which will make cleaning the data more straightforward."
   ]
  },
  {
   "cell_type": "code",
   "execution_count": 6,
   "metadata": {
    "scrolled": false
   },
   "outputs": [
    {
     "data": {
      "text/plain": [
       "MONTH                            0\n",
       "DAY_OF_WEEK                      0\n",
       "DEP_DEL15                        0\n",
       "DEP_TIME_BLK                     0\n",
       "DISTANCE_GROUP                   0\n",
       "SEGMENT_NUMBER                   0\n",
       "CONCURRENT_FLIGHTS               0\n",
       "NUMBER_OF_SEATS                  0\n",
       "CARRIER_NAME                     0\n",
       "AIRPORT_FLIGHTS_MONTH            0\n",
       "AIRLINE_FLIGHTS_MONTH            0\n",
       "AIRLINE_AIRPORT_FLIGHTS_MONTH    0\n",
       "AVG_MONTHLY_PASS_AIRPORT         0\n",
       "AVG_MONTHLY_PASS_AIRLINE         0\n",
       "FLT_ATTENDANTS_PER_PASS          0\n",
       "GROUND_SERV_PER_PASS             0\n",
       "PLANE_AGE                        0\n",
       "DEPARTING_AIRPORT                0\n",
       "LATITUDE                         0\n",
       "LONGITUDE                        0\n",
       "PREVIOUS_AIRPORT                 0\n",
       "PRCP                             0\n",
       "SNOW                             0\n",
       "SNWD                             0\n",
       "TMAX                             0\n",
       "AWND                             0\n",
       "dtype: int64"
      ]
     },
     "execution_count": 6,
     "metadata": {},
     "output_type": "execute_result"
    }
   ],
   "source": [
    "# Find the amount of missing values in each column\n",
    "data.isna().sum()"
   ]
  },
  {
   "cell_type": "markdown",
   "metadata": {},
   "source": [
    "## Data Preparation\n",
    "Now that I've gotten an initial look, it's time to begin preparing the data for modeling. I will start by making a copy of the original dataset, then filtering the data to keep only flights taken with United Airlines. From my earlier observations, I can see that will greatly reduce the data to a little over 600,000 records from 6 million. "
   ]
  },
  {
   "cell_type": "code",
   "execution_count": 7,
   "metadata": {},
   "outputs": [],
   "source": [
    "# Make a copy of the dataset\n",
    "data2 = data.copy()"
   ]
  },
  {
   "cell_type": "code",
   "execution_count": 8,
   "metadata": {},
   "outputs": [
    {
     "data": {
      "text/html": [
       "<div>\n",
       "<style scoped>\n",
       "    .dataframe tbody tr th:only-of-type {\n",
       "        vertical-align: middle;\n",
       "    }\n",
       "\n",
       "    .dataframe tbody tr th {\n",
       "        vertical-align: top;\n",
       "    }\n",
       "\n",
       "    .dataframe thead th {\n",
       "        text-align: right;\n",
       "    }\n",
       "</style>\n",
       "<table border=\"1\" class=\"dataframe\">\n",
       "  <thead>\n",
       "    <tr style=\"text-align: right;\">\n",
       "      <th></th>\n",
       "      <th>MONTH</th>\n",
       "      <th>DAY_OF_WEEK</th>\n",
       "      <th>DEP_DEL15</th>\n",
       "      <th>DEP_TIME_BLK</th>\n",
       "      <th>DISTANCE_GROUP</th>\n",
       "      <th>SEGMENT_NUMBER</th>\n",
       "      <th>CONCURRENT_FLIGHTS</th>\n",
       "      <th>NUMBER_OF_SEATS</th>\n",
       "      <th>CARRIER_NAME</th>\n",
       "      <th>AIRPORT_FLIGHTS_MONTH</th>\n",
       "      <th>...</th>\n",
       "      <th>PLANE_AGE</th>\n",
       "      <th>DEPARTING_AIRPORT</th>\n",
       "      <th>LATITUDE</th>\n",
       "      <th>LONGITUDE</th>\n",
       "      <th>PREVIOUS_AIRPORT</th>\n",
       "      <th>PRCP</th>\n",
       "      <th>SNOW</th>\n",
       "      <th>SNWD</th>\n",
       "      <th>TMAX</th>\n",
       "      <th>AWND</th>\n",
       "    </tr>\n",
       "  </thead>\n",
       "  <tbody>\n",
       "    <tr>\n",
       "      <th>21</th>\n",
       "      <td>1</td>\n",
       "      <td>7</td>\n",
       "      <td>0</td>\n",
       "      <td>0800-0859</td>\n",
       "      <td>2</td>\n",
       "      <td>1</td>\n",
       "      <td>25</td>\n",
       "      <td>173</td>\n",
       "      <td>United Air Lines Inc.</td>\n",
       "      <td>13056</td>\n",
       "      <td>...</td>\n",
       "      <td>6</td>\n",
       "      <td>McCarran International</td>\n",
       "      <td>36.08</td>\n",
       "      <td>-115.152</td>\n",
       "      <td>NONE</td>\n",
       "      <td>0.0</td>\n",
       "      <td>0.0</td>\n",
       "      <td>0.0</td>\n",
       "      <td>65.0</td>\n",
       "      <td>2.91</td>\n",
       "    </tr>\n",
       "    <tr>\n",
       "      <th>22</th>\n",
       "      <td>1</td>\n",
       "      <td>7</td>\n",
       "      <td>0</td>\n",
       "      <td>0800-0859</td>\n",
       "      <td>3</td>\n",
       "      <td>1</td>\n",
       "      <td>25</td>\n",
       "      <td>142</td>\n",
       "      <td>United Air Lines Inc.</td>\n",
       "      <td>13056</td>\n",
       "      <td>...</td>\n",
       "      <td>22</td>\n",
       "      <td>McCarran International</td>\n",
       "      <td>36.08</td>\n",
       "      <td>-115.152</td>\n",
       "      <td>NONE</td>\n",
       "      <td>0.0</td>\n",
       "      <td>0.0</td>\n",
       "      <td>0.0</td>\n",
       "      <td>65.0</td>\n",
       "      <td>2.91</td>\n",
       "    </tr>\n",
       "    <tr>\n",
       "      <th>23</th>\n",
       "      <td>1</td>\n",
       "      <td>7</td>\n",
       "      <td>0</td>\n",
       "      <td>0900-0959</td>\n",
       "      <td>7</td>\n",
       "      <td>1</td>\n",
       "      <td>28</td>\n",
       "      <td>154</td>\n",
       "      <td>United Air Lines Inc.</td>\n",
       "      <td>13056</td>\n",
       "      <td>...</td>\n",
       "      <td>3</td>\n",
       "      <td>McCarran International</td>\n",
       "      <td>36.08</td>\n",
       "      <td>-115.152</td>\n",
       "      <td>NONE</td>\n",
       "      <td>0.0</td>\n",
       "      <td>0.0</td>\n",
       "      <td>0.0</td>\n",
       "      <td>65.0</td>\n",
       "      <td>2.91</td>\n",
       "    </tr>\n",
       "    <tr>\n",
       "      <th>24</th>\n",
       "      <td>1</td>\n",
       "      <td>7</td>\n",
       "      <td>1</td>\n",
       "      <td>1000-1059</td>\n",
       "      <td>3</td>\n",
       "      <td>1</td>\n",
       "      <td>29</td>\n",
       "      <td>142</td>\n",
       "      <td>United Air Lines Inc.</td>\n",
       "      <td>13056</td>\n",
       "      <td>...</td>\n",
       "      <td>19</td>\n",
       "      <td>McCarran International</td>\n",
       "      <td>36.08</td>\n",
       "      <td>-115.152</td>\n",
       "      <td>NONE</td>\n",
       "      <td>0.0</td>\n",
       "      <td>0.0</td>\n",
       "      <td>0.0</td>\n",
       "      <td>65.0</td>\n",
       "      <td>2.91</td>\n",
       "    </tr>\n",
       "    <tr>\n",
       "      <th>25</th>\n",
       "      <td>1</td>\n",
       "      <td>7</td>\n",
       "      <td>0</td>\n",
       "      <td>0600-0659</td>\n",
       "      <td>7</td>\n",
       "      <td>1</td>\n",
       "      <td>27</td>\n",
       "      <td>173</td>\n",
       "      <td>United Air Lines Inc.</td>\n",
       "      <td>13056</td>\n",
       "      <td>...</td>\n",
       "      <td>4</td>\n",
       "      <td>McCarran International</td>\n",
       "      <td>36.08</td>\n",
       "      <td>-115.152</td>\n",
       "      <td>NONE</td>\n",
       "      <td>0.0</td>\n",
       "      <td>0.0</td>\n",
       "      <td>0.0</td>\n",
       "      <td>65.0</td>\n",
       "      <td>2.91</td>\n",
       "    </tr>\n",
       "    <tr>\n",
       "      <th>26</th>\n",
       "      <td>1</td>\n",
       "      <td>7</td>\n",
       "      <td>0</td>\n",
       "      <td>0700-0759</td>\n",
       "      <td>1</td>\n",
       "      <td>1</td>\n",
       "      <td>29</td>\n",
       "      <td>154</td>\n",
       "      <td>United Air Lines Inc.</td>\n",
       "      <td>13056</td>\n",
       "      <td>...</td>\n",
       "      <td>21</td>\n",
       "      <td>McCarran International</td>\n",
       "      <td>36.08</td>\n",
       "      <td>-115.152</td>\n",
       "      <td>NONE</td>\n",
       "      <td>0.0</td>\n",
       "      <td>0.0</td>\n",
       "      <td>0.0</td>\n",
       "      <td>65.0</td>\n",
       "      <td>2.91</td>\n",
       "    </tr>\n",
       "    <tr>\n",
       "      <th>27</th>\n",
       "      <td>1</td>\n",
       "      <td>7</td>\n",
       "      <td>0</td>\n",
       "      <td>0600-0659</td>\n",
       "      <td>2</td>\n",
       "      <td>1</td>\n",
       "      <td>27</td>\n",
       "      <td>154</td>\n",
       "      <td>United Air Lines Inc.</td>\n",
       "      <td>13056</td>\n",
       "      <td>...</td>\n",
       "      <td>20</td>\n",
       "      <td>McCarran International</td>\n",
       "      <td>36.08</td>\n",
       "      <td>-115.152</td>\n",
       "      <td>NONE</td>\n",
       "      <td>0.0</td>\n",
       "      <td>0.0</td>\n",
       "      <td>0.0</td>\n",
       "      <td>65.0</td>\n",
       "      <td>2.91</td>\n",
       "    </tr>\n",
       "    <tr>\n",
       "      <th>28</th>\n",
       "      <td>1</td>\n",
       "      <td>7</td>\n",
       "      <td>0</td>\n",
       "      <td>0600-0659</td>\n",
       "      <td>9</td>\n",
       "      <td>1</td>\n",
       "      <td>27</td>\n",
       "      <td>173</td>\n",
       "      <td>United Air Lines Inc.</td>\n",
       "      <td>13056</td>\n",
       "      <td>...</td>\n",
       "      <td>11</td>\n",
       "      <td>McCarran International</td>\n",
       "      <td>36.08</td>\n",
       "      <td>-115.152</td>\n",
       "      <td>NONE</td>\n",
       "      <td>0.0</td>\n",
       "      <td>0.0</td>\n",
       "      <td>0.0</td>\n",
       "      <td>65.0</td>\n",
       "      <td>2.91</td>\n",
       "    </tr>\n",
       "    <tr>\n",
       "      <th>29</th>\n",
       "      <td>1</td>\n",
       "      <td>7</td>\n",
       "      <td>0</td>\n",
       "      <td>0001-0559</td>\n",
       "      <td>5</td>\n",
       "      <td>1</td>\n",
       "      <td>10</td>\n",
       "      <td>154</td>\n",
       "      <td>United Air Lines Inc.</td>\n",
       "      <td>13056</td>\n",
       "      <td>...</td>\n",
       "      <td>3</td>\n",
       "      <td>McCarran International</td>\n",
       "      <td>36.08</td>\n",
       "      <td>-115.152</td>\n",
       "      <td>NONE</td>\n",
       "      <td>0.0</td>\n",
       "      <td>0.0</td>\n",
       "      <td>0.0</td>\n",
       "      <td>65.0</td>\n",
       "      <td>2.91</td>\n",
       "    </tr>\n",
       "    <tr>\n",
       "      <th>30</th>\n",
       "      <td>1</td>\n",
       "      <td>7</td>\n",
       "      <td>0</td>\n",
       "      <td>0600-0659</td>\n",
       "      <td>3</td>\n",
       "      <td>1</td>\n",
       "      <td>27</td>\n",
       "      <td>173</td>\n",
       "      <td>United Air Lines Inc.</td>\n",
       "      <td>13056</td>\n",
       "      <td>...</td>\n",
       "      <td>4</td>\n",
       "      <td>McCarran International</td>\n",
       "      <td>36.08</td>\n",
       "      <td>-115.152</td>\n",
       "      <td>NONE</td>\n",
       "      <td>0.0</td>\n",
       "      <td>0.0</td>\n",
       "      <td>0.0</td>\n",
       "      <td>65.0</td>\n",
       "      <td>2.91</td>\n",
       "    </tr>\n",
       "  </tbody>\n",
       "</table>\n",
       "<p>10 rows × 26 columns</p>\n",
       "</div>"
      ],
      "text/plain": [
       "    MONTH  DAY_OF_WEEK  DEP_DEL15 DEP_TIME_BLK  DISTANCE_GROUP  \\\n",
       "21      1            7          0    0800-0859               2   \n",
       "22      1            7          0    0800-0859               3   \n",
       "23      1            7          0    0900-0959               7   \n",
       "24      1            7          1    1000-1059               3   \n",
       "25      1            7          0    0600-0659               7   \n",
       "26      1            7          0    0700-0759               1   \n",
       "27      1            7          0    0600-0659               2   \n",
       "28      1            7          0    0600-0659               9   \n",
       "29      1            7          0    0001-0559               5   \n",
       "30      1            7          0    0600-0659               3   \n",
       "\n",
       "    SEGMENT_NUMBER  CONCURRENT_FLIGHTS  NUMBER_OF_SEATS  \\\n",
       "21               1                  25              173   \n",
       "22               1                  25              142   \n",
       "23               1                  28              154   \n",
       "24               1                  29              142   \n",
       "25               1                  27              173   \n",
       "26               1                  29              154   \n",
       "27               1                  27              154   \n",
       "28               1                  27              173   \n",
       "29               1                  10              154   \n",
       "30               1                  27              173   \n",
       "\n",
       "             CARRIER_NAME  AIRPORT_FLIGHTS_MONTH  ...  PLANE_AGE  \\\n",
       "21  United Air Lines Inc.                  13056  ...          6   \n",
       "22  United Air Lines Inc.                  13056  ...         22   \n",
       "23  United Air Lines Inc.                  13056  ...          3   \n",
       "24  United Air Lines Inc.                  13056  ...         19   \n",
       "25  United Air Lines Inc.                  13056  ...          4   \n",
       "26  United Air Lines Inc.                  13056  ...         21   \n",
       "27  United Air Lines Inc.                  13056  ...         20   \n",
       "28  United Air Lines Inc.                  13056  ...         11   \n",
       "29  United Air Lines Inc.                  13056  ...          3   \n",
       "30  United Air Lines Inc.                  13056  ...          4   \n",
       "\n",
       "         DEPARTING_AIRPORT  LATITUDE  LONGITUDE  PREVIOUS_AIRPORT  PRCP  SNOW  \\\n",
       "21  McCarran International     36.08   -115.152              NONE   0.0   0.0   \n",
       "22  McCarran International     36.08   -115.152              NONE   0.0   0.0   \n",
       "23  McCarran International     36.08   -115.152              NONE   0.0   0.0   \n",
       "24  McCarran International     36.08   -115.152              NONE   0.0   0.0   \n",
       "25  McCarran International     36.08   -115.152              NONE   0.0   0.0   \n",
       "26  McCarran International     36.08   -115.152              NONE   0.0   0.0   \n",
       "27  McCarran International     36.08   -115.152              NONE   0.0   0.0   \n",
       "28  McCarran International     36.08   -115.152              NONE   0.0   0.0   \n",
       "29  McCarran International     36.08   -115.152              NONE   0.0   0.0   \n",
       "30  McCarran International     36.08   -115.152              NONE   0.0   0.0   \n",
       "\n",
       "   SNWD  TMAX  AWND  \n",
       "21  0.0  65.0  2.91  \n",
       "22  0.0  65.0  2.91  \n",
       "23  0.0  65.0  2.91  \n",
       "24  0.0  65.0  2.91  \n",
       "25  0.0  65.0  2.91  \n",
       "26  0.0  65.0  2.91  \n",
       "27  0.0  65.0  2.91  \n",
       "28  0.0  65.0  2.91  \n",
       "29  0.0  65.0  2.91  \n",
       "30  0.0  65.0  2.91  \n",
       "\n",
       "[10 rows x 26 columns]"
      ]
     },
     "execution_count": 8,
     "metadata": {},
     "output_type": "execute_result"
    }
   ],
   "source": [
    "# Filter United Airlines's records and list the first 10\n",
    "data2 = data2.loc[data2['CARRIER_NAME'] == 'United Air Lines Inc.']\n",
    "data2.head(10)"
   ]
  },
  {
   "cell_type": "markdown",
   "metadata": {},
   "source": [
    "Next step is to remove all the columns I believe are unnecessary or irrelevant to my model. This will reduce my dimensions from 26 to 12, which includes my target column."
   ]
  },
  {
   "cell_type": "code",
   "execution_count": 9,
   "metadata": {},
   "outputs": [
    {
     "name": "stdout",
     "output_type": "stream",
     "text": [
      "<class 'pandas.core.frame.DataFrame'>\n",
      "Int64Index: 601044 entries, 21 to 6489030\n",
      "Data columns (total 12 columns):\n",
      " #   Column             Non-Null Count   Dtype  \n",
      "---  ------             --------------   -----  \n",
      " 0   MONTH              601044 non-null  int64  \n",
      " 1   DAY_OF_WEEK        601044 non-null  int64  \n",
      " 2   DEP_DEL15          601044 non-null  int64  \n",
      " 3   DEP_TIME_BLK       601044 non-null  object \n",
      " 4   DISTANCE_GROUP     601044 non-null  int64  \n",
      " 5   PLANE_AGE          601044 non-null  int64  \n",
      " 6   DEPARTING_AIRPORT  601044 non-null  object \n",
      " 7   PRCP               601044 non-null  float64\n",
      " 8   SNOW               601044 non-null  float64\n",
      " 9   SNWD               601044 non-null  float64\n",
      " 10  TMAX               601044 non-null  float64\n",
      " 11  AWND               601044 non-null  float64\n",
      "dtypes: float64(5), int64(5), object(2)\n",
      "memory usage: 59.6+ MB\n"
     ]
    }
   ],
   "source": [
    "# Drop unnecessary columns and display column information \n",
    "cols_to_drop = ['SEGMENT_NUMBER', 'NUMBER_OF_SEATS', 'FLT_ATTENDANTS_PER_PASS', 'AVG_MONTHLY_PASS_AIRPORT', \n",
    "                'GROUND_SERV_PER_PASS', 'AIRLINE_AIRPORT_FLIGHTS_MONTH', 'PREVIOUS_AIRPORT', 'AVG_MONTHLY_PASS_AIRLINE',\n",
    "                'LATITUDE', 'LONGITUDE', 'CARRIER_NAME', 'CONCURRENT_FLIGHTS', 'AIRPORT_FLIGHTS_MONTH', 'AIRLINE_FLIGHTS_MONTH']\n",
    "data2 = data2.drop(cols_to_drop, axis=1)\n",
    "data2.info()"
   ]
  },
  {
   "cell_type": "markdown",
   "metadata": {},
   "source": [
    "Now that the columns have been reduced, I will look to do the same with the rows by dropping any duplicates that exist in my dataset. I will also rename some of the column names for easier comprehension, moving forward, and then shift the target column to the end of my dataframe."
   ]
  },
  {
   "cell_type": "code",
   "execution_count": 10,
   "metadata": {},
   "outputs": [
    {
     "data": {
      "text/plain": [
       "18105"
      ]
     },
     "execution_count": 10,
     "metadata": {},
     "output_type": "execute_result"
    }
   ],
   "source": [
    "data2.duplicated().sum()"
   ]
  },
  {
   "cell_type": "code",
   "execution_count": 11,
   "metadata": {},
   "outputs": [],
   "source": [
    "data2.drop_duplicates(inplace=True)"
   ]
  },
  {
   "cell_type": "code",
   "execution_count": 12,
   "metadata": {
    "scrolled": false
   },
   "outputs": [
    {
     "data": {
      "text/html": [
       "<div>\n",
       "<style scoped>\n",
       "    .dataframe tbody tr th:only-of-type {\n",
       "        vertical-align: middle;\n",
       "    }\n",
       "\n",
       "    .dataframe tbody tr th {\n",
       "        vertical-align: top;\n",
       "    }\n",
       "\n",
       "    .dataframe thead th {\n",
       "        text-align: right;\n",
       "    }\n",
       "</style>\n",
       "<table border=\"1\" class=\"dataframe\">\n",
       "  <thead>\n",
       "    <tr style=\"text-align: right;\">\n",
       "      <th></th>\n",
       "      <th>MONTH</th>\n",
       "      <th>DAY_OF_WEEK</th>\n",
       "      <th>DELAYED</th>\n",
       "      <th>DEP_TIME_BLK</th>\n",
       "      <th>DISTANCE_GROUP</th>\n",
       "      <th>PLANE_AGE</th>\n",
       "      <th>DEPARTING_AIRPORT</th>\n",
       "      <th>PRECIPITATION</th>\n",
       "      <th>SNOW</th>\n",
       "      <th>SNOW_ON_GROUND</th>\n",
       "      <th>MAX_TEMP_FOR_DAY</th>\n",
       "      <th>MAX_WIND_FOR_DAY</th>\n",
       "    </tr>\n",
       "  </thead>\n",
       "  <tbody>\n",
       "    <tr>\n",
       "      <th>21</th>\n",
       "      <td>1</td>\n",
       "      <td>7</td>\n",
       "      <td>0</td>\n",
       "      <td>0800-0859</td>\n",
       "      <td>2</td>\n",
       "      <td>6</td>\n",
       "      <td>McCarran International</td>\n",
       "      <td>0.0</td>\n",
       "      <td>0.0</td>\n",
       "      <td>0.0</td>\n",
       "      <td>65.0</td>\n",
       "      <td>2.91</td>\n",
       "    </tr>\n",
       "    <tr>\n",
       "      <th>22</th>\n",
       "      <td>1</td>\n",
       "      <td>7</td>\n",
       "      <td>0</td>\n",
       "      <td>0800-0859</td>\n",
       "      <td>3</td>\n",
       "      <td>22</td>\n",
       "      <td>McCarran International</td>\n",
       "      <td>0.0</td>\n",
       "      <td>0.0</td>\n",
       "      <td>0.0</td>\n",
       "      <td>65.0</td>\n",
       "      <td>2.91</td>\n",
       "    </tr>\n",
       "    <tr>\n",
       "      <th>23</th>\n",
       "      <td>1</td>\n",
       "      <td>7</td>\n",
       "      <td>0</td>\n",
       "      <td>0900-0959</td>\n",
       "      <td>7</td>\n",
       "      <td>3</td>\n",
       "      <td>McCarran International</td>\n",
       "      <td>0.0</td>\n",
       "      <td>0.0</td>\n",
       "      <td>0.0</td>\n",
       "      <td>65.0</td>\n",
       "      <td>2.91</td>\n",
       "    </tr>\n",
       "    <tr>\n",
       "      <th>24</th>\n",
       "      <td>1</td>\n",
       "      <td>7</td>\n",
       "      <td>1</td>\n",
       "      <td>1000-1059</td>\n",
       "      <td>3</td>\n",
       "      <td>19</td>\n",
       "      <td>McCarran International</td>\n",
       "      <td>0.0</td>\n",
       "      <td>0.0</td>\n",
       "      <td>0.0</td>\n",
       "      <td>65.0</td>\n",
       "      <td>2.91</td>\n",
       "    </tr>\n",
       "    <tr>\n",
       "      <th>25</th>\n",
       "      <td>1</td>\n",
       "      <td>7</td>\n",
       "      <td>0</td>\n",
       "      <td>0600-0659</td>\n",
       "      <td>7</td>\n",
       "      <td>4</td>\n",
       "      <td>McCarran International</td>\n",
       "      <td>0.0</td>\n",
       "      <td>0.0</td>\n",
       "      <td>0.0</td>\n",
       "      <td>65.0</td>\n",
       "      <td>2.91</td>\n",
       "    </tr>\n",
       "  </tbody>\n",
       "</table>\n",
       "</div>"
      ],
      "text/plain": [
       "    MONTH  DAY_OF_WEEK  DELAYED DEP_TIME_BLK  DISTANCE_GROUP  PLANE_AGE  \\\n",
       "21      1            7        0    0800-0859               2          6   \n",
       "22      1            7        0    0800-0859               3         22   \n",
       "23      1            7        0    0900-0959               7          3   \n",
       "24      1            7        1    1000-1059               3         19   \n",
       "25      1            7        0    0600-0659               7          4   \n",
       "\n",
       "         DEPARTING_AIRPORT  PRECIPITATION  SNOW  SNOW_ON_GROUND  \\\n",
       "21  McCarran International            0.0   0.0             0.0   \n",
       "22  McCarran International            0.0   0.0             0.0   \n",
       "23  McCarran International            0.0   0.0             0.0   \n",
       "24  McCarran International            0.0   0.0             0.0   \n",
       "25  McCarran International            0.0   0.0             0.0   \n",
       "\n",
       "    MAX_TEMP_FOR_DAY  MAX_WIND_FOR_DAY  \n",
       "21              65.0              2.91  \n",
       "22              65.0              2.91  \n",
       "23              65.0              2.91  \n",
       "24              65.0              2.91  \n",
       "25              65.0              2.91  "
      ]
     },
     "execution_count": 12,
     "metadata": {},
     "output_type": "execute_result"
    }
   ],
   "source": [
    "# Rename the columns for easier comprehension & list the first 5 records\n",
    "new_col_names = {'DEP_DEL15': 'DELAYED',\n",
    "                'PRCP': 'PRECIPITATION',\n",
    "                'SNWD': 'SNOW_ON_GROUND',\n",
    "                'TMAX': 'MAX_TEMP_FOR_DAY',\n",
    "                'AWND': 'MAX_WIND_FOR_DAY'}\n",
    "data2 = data2.rename(new_col_names, axis=1)\n",
    "data2.head()"
   ]
  },
  {
   "cell_type": "code",
   "execution_count": 13,
   "metadata": {
    "scrolled": true
   },
   "outputs": [
    {
     "data": {
      "text/html": [
       "<div>\n",
       "<style scoped>\n",
       "    .dataframe tbody tr th:only-of-type {\n",
       "        vertical-align: middle;\n",
       "    }\n",
       "\n",
       "    .dataframe tbody tr th {\n",
       "        vertical-align: top;\n",
       "    }\n",
       "\n",
       "    .dataframe thead th {\n",
       "        text-align: right;\n",
       "    }\n",
       "</style>\n",
       "<table border=\"1\" class=\"dataframe\">\n",
       "  <thead>\n",
       "    <tr style=\"text-align: right;\">\n",
       "      <th></th>\n",
       "      <th>MONTH</th>\n",
       "      <th>DAY_OF_WEEK</th>\n",
       "      <th>DEP_TIME_BLK</th>\n",
       "      <th>DISTANCE_GROUP</th>\n",
       "      <th>PLANE_AGE</th>\n",
       "      <th>DEPARTING_AIRPORT</th>\n",
       "      <th>PRECIPITATION</th>\n",
       "      <th>SNOW</th>\n",
       "      <th>SNOW_ON_GROUND</th>\n",
       "      <th>MAX_TEMP_FOR_DAY</th>\n",
       "      <th>MAX_WIND_FOR_DAY</th>\n",
       "      <th>DELAYED</th>\n",
       "    </tr>\n",
       "  </thead>\n",
       "  <tbody>\n",
       "    <tr>\n",
       "      <th>21</th>\n",
       "      <td>1</td>\n",
       "      <td>7</td>\n",
       "      <td>0800-0859</td>\n",
       "      <td>2</td>\n",
       "      <td>6</td>\n",
       "      <td>McCarran International</td>\n",
       "      <td>0.0</td>\n",
       "      <td>0.0</td>\n",
       "      <td>0.0</td>\n",
       "      <td>65.0</td>\n",
       "      <td>2.91</td>\n",
       "      <td>0</td>\n",
       "    </tr>\n",
       "    <tr>\n",
       "      <th>22</th>\n",
       "      <td>1</td>\n",
       "      <td>7</td>\n",
       "      <td>0800-0859</td>\n",
       "      <td>3</td>\n",
       "      <td>22</td>\n",
       "      <td>McCarran International</td>\n",
       "      <td>0.0</td>\n",
       "      <td>0.0</td>\n",
       "      <td>0.0</td>\n",
       "      <td>65.0</td>\n",
       "      <td>2.91</td>\n",
       "      <td>0</td>\n",
       "    </tr>\n",
       "    <tr>\n",
       "      <th>23</th>\n",
       "      <td>1</td>\n",
       "      <td>7</td>\n",
       "      <td>0900-0959</td>\n",
       "      <td>7</td>\n",
       "      <td>3</td>\n",
       "      <td>McCarran International</td>\n",
       "      <td>0.0</td>\n",
       "      <td>0.0</td>\n",
       "      <td>0.0</td>\n",
       "      <td>65.0</td>\n",
       "      <td>2.91</td>\n",
       "      <td>0</td>\n",
       "    </tr>\n",
       "    <tr>\n",
       "      <th>24</th>\n",
       "      <td>1</td>\n",
       "      <td>7</td>\n",
       "      <td>1000-1059</td>\n",
       "      <td>3</td>\n",
       "      <td>19</td>\n",
       "      <td>McCarran International</td>\n",
       "      <td>0.0</td>\n",
       "      <td>0.0</td>\n",
       "      <td>0.0</td>\n",
       "      <td>65.0</td>\n",
       "      <td>2.91</td>\n",
       "      <td>1</td>\n",
       "    </tr>\n",
       "    <tr>\n",
       "      <th>25</th>\n",
       "      <td>1</td>\n",
       "      <td>7</td>\n",
       "      <td>0600-0659</td>\n",
       "      <td>7</td>\n",
       "      <td>4</td>\n",
       "      <td>McCarran International</td>\n",
       "      <td>0.0</td>\n",
       "      <td>0.0</td>\n",
       "      <td>0.0</td>\n",
       "      <td>65.0</td>\n",
       "      <td>2.91</td>\n",
       "      <td>0</td>\n",
       "    </tr>\n",
       "  </tbody>\n",
       "</table>\n",
       "</div>"
      ],
      "text/plain": [
       "    MONTH  DAY_OF_WEEK DEP_TIME_BLK  DISTANCE_GROUP  PLANE_AGE  \\\n",
       "21      1            7    0800-0859               2          6   \n",
       "22      1            7    0800-0859               3         22   \n",
       "23      1            7    0900-0959               7          3   \n",
       "24      1            7    1000-1059               3         19   \n",
       "25      1            7    0600-0659               7          4   \n",
       "\n",
       "         DEPARTING_AIRPORT  PRECIPITATION  SNOW  SNOW_ON_GROUND  \\\n",
       "21  McCarran International            0.0   0.0             0.0   \n",
       "22  McCarran International            0.0   0.0             0.0   \n",
       "23  McCarran International            0.0   0.0             0.0   \n",
       "24  McCarran International            0.0   0.0             0.0   \n",
       "25  McCarran International            0.0   0.0             0.0   \n",
       "\n",
       "    MAX_TEMP_FOR_DAY  MAX_WIND_FOR_DAY  DELAYED  \n",
       "21              65.0              2.91        0  \n",
       "22              65.0              2.91        0  \n",
       "23              65.0              2.91        0  \n",
       "24              65.0              2.91        1  \n",
       "25              65.0              2.91        0  "
      ]
     },
     "execution_count": 13,
     "metadata": {},
     "output_type": "execute_result"
    }
   ],
   "source": [
    "# Shift the target column to the end \n",
    "cols_at_end = ['DELAYED']\n",
    "data2 = data2[[col for col in data2 if col not in cols_at_end] \n",
    "        + [col for col in cols_at_end if col in data2]]\n",
    "\n",
    "# Preview the first 5 records to confirm the change\n",
    "data2.head()"
   ]
  },
  {
   "cell_type": "markdown",
   "metadata": {},
   "source": [
    "By shifting the target column (`'DELAYED'`) to the end of the dataframe, reading the following correlation matrix becomes more straightforward. The correlation matrix displays the Pearson coefficient to communicate how closely correlated each feature is with the others."
   ]
  },
  {
   "cell_type": "code",
   "execution_count": 14,
   "metadata": {},
   "outputs": [
    {
     "data": {
      "image/png": "[encoded data removed]",
      "text/plain": [
       "<Figure size 1008x720 with 2 Axes>"
      ]
     },
     "metadata": {},
     "output_type": "display_data"
    }
   ],
   "source": [
    "# Plot a heatmap with the Pearson coefficient values listed\n",
    "fig, ax = plt.subplots(figsize=(14, 10))\n",
    "mask = np.triu(np.ones_like(data2.corr(), dtype=bool))\n",
    "sns.heatmap(data2.corr(), mask=mask, annot=True);"
   ]
  },
  {
   "cell_type": "markdown",
   "metadata": {},
   "source": [
    "The correlation matrix above suggests that precipitation, snow, and the maximum wind speed for the day are the three predictors that correlate strongly with the target variable. This is logical, as weather would come to mind among the biggest reasons for flight delays. However, given that none of the Pearson coefficient values exceed 0.1, that isn't saying much. The day of the week seems to have the weakest correlation, which also makes sense, since delays are more random and tough to define within those time units. Month, however, is a measure of time that negatively correlates with delay status, and may be interesting to take a further look at. \n",
    "\n",
    "Now that the dataset has been cleaned up, I want to take a look at the distributions of both the features and the target. This will give me an idea of whether a class imbalance exists (which I suspect there does), and how the feature data is distributed within that imbalance. I'll start by getting a count of the records, based on the `'MONTH'` and `'DAY_OF_WEEK'` features. I plot these value counts, but I divide them based on the target variable - labeling the bars as `'Not Delayed'` or `'Delayed'`."
   ]
  },
  {
   "cell_type": "code",
   "execution_count": 15,
   "metadata": {},
   "outputs": [
    {
     "data": {
      "text/plain": [
       "1     43189\n",
       "2     40457\n",
       "3     49824\n",
       "4     49038\n",
       "5     51038\n",
       "6     50529\n",
       "7     52122\n",
       "8     52538\n",
       "9     47786\n",
       "10    51477\n",
       "11    46880\n",
       "12    48061\n",
       "Name: MONTH, dtype: int64"
      ]
     },
     "execution_count": 15,
     "metadata": {},
     "output_type": "execute_result"
    }
   ],
   "source": [
    "# Break down the records by month\n",
    "data2['MONTH'].value_counts().sort_index()"
   ]
  },
  {
   "cell_type": "code",
   "execution_count": 16,
   "metadata": {},
   "outputs": [
    {
     "data": {
      "text/plain": [
       "1    86421\n",
       "2    85043\n",
       "3    84471\n",
       "4    84973\n",
       "5    86153\n",
       "6    73156\n",
       "7    82722\n",
       "Name: DAY_OF_WEEK, dtype: int64"
      ]
     },
     "execution_count": 16,
     "metadata": {},
     "output_type": "execute_result"
    }
   ],
   "source": [
    "# Break down the records by days of the week\n",
    "data2['DAY_OF_WEEK'].value_counts().sort_index()"
   ]
  },
  {
   "cell_type": "code",
   "execution_count": 17,
   "metadata": {
    "scrolled": false
   },
   "outputs": [
    {
     "data": {
      "image/png": "[encoded data removed]",
      "text/plain": [
       "<Figure size 1296x864 with 2 Axes>"
      ]
     },
     "metadata": {},
     "output_type": "display_data"
    }
   ],
   "source": [
    "# Plot feature distributions\n",
    "\n",
    "# Create month and days list objects\n",
    "months = ['January', 'February', 'March', 'April', 'May', 'June',\n",
    "         'July', 'August', 'September', 'October', 'November', 'December']\n",
    "days = ['Sunday', 'Monday', 'Tuesday', 'Wednesday', 'Thursday', 'Friday', 'Saturday']\n",
    "\n",
    "# Visualize the delay status by month\n",
    "fig, ax = plt.subplots(1, 2, figsize=(18, 12))\n",
    "plot1 = sns.histplot(data2, x='MONTH', hue='DELAYED', ax=ax[0], palette='bright', discrete=True)\n",
    "\n",
    "# Change the legend labels\n",
    "new_title = 'Delay Status'\n",
    "plot1.legend_.set_title(new_title)\n",
    "new_labels = ['Not Delayed', 'Delayed']\n",
    "for t, l in zip(plot1.legend_.texts, new_labels):\n",
    "    t.set_text(l)\n",
    "    \n",
    "# Add minor gridlines\n",
    "minor_locator = AutoMinorLocator(5)\n",
    "ax[0].yaxis.set_minor_locator(minor_locator)\n",
    "ax[0].set_axisbelow(True)\n",
    "plt.grid(which='both')\n",
    "ax[0].tick_params(which=\"both\", bottom=True)\n",
    "\n",
    "# Change x-tick labels to months (written form) and rotate the labels\n",
    "old_labels = [1, 2, 3, 4, 5, 6, 7, 8, 9, 10, 11, 12]\n",
    "ax[0].set_xticks(old_labels)\n",
    "ax[0].set_xticklabels(months)\n",
    "ax[0].tick_params(axis='x', labelrotation=35)\n",
    "ax[0].set_xlabel(\"Months\")\n",
    "ax[0].set_title(\"The Number of Delayed and Not-Delayed Flights by Month\")\n",
    "    \n",
    "# Visualize the delay status by days of the week    \n",
    "plot2 = sns.histplot(data2, x='DAY_OF_WEEK', hue='DELAYED', ax=ax[1], palette='bright', discrete=True)\n",
    "\n",
    "# Change the legend labels\n",
    "new_title = 'Delay Status'\n",
    "plot2.legend_.set_title(new_title)\n",
    "new_labels = ['Not Delayed', 'Delayed']\n",
    "for t, l in zip(plot2.legend_.texts, new_labels):\n",
    "    t.set_text(l)\n",
    "\n",
    "# Add minor gridlines\n",
    "minor_locator = AutoMinorLocator(5)\n",
    "ax[1].yaxis.set_minor_locator(minor_locator)\n",
    "ax[1].set_axisbelow(True)\n",
    "plt.grid(which='both')\n",
    "\n",
    "# Change x-tick labels to days (written form)\n",
    "old_labels = [1, 2, 3, 4, 5, 6, 7]\n",
    "ax[1].set_xticks(old_labels)\n",
    "ax[1].set_xticklabels(days)\n",
    "ax[1].set_xlabel(\"Days of the Week\")\n",
    "ax[1].set_title(\"The Number of Delayed and Not-Delayed Flights by Day of the Week\");"
   ]
  },
  {
   "cell_type": "markdown",
   "metadata": {},
   "source": [
    "Based on the visuals above, I see that there definitely exists a class imbalance in the dataset. In regard to the features, the first plot suggests that the summer months tend to see the highest number of delays, while the colder months seem to see less. In the second plot, the delays are highest on Wednesdays; although, the data seems to have low variation between the days of the week. \n",
    "\n",
    "The next few features are the `'DEP_TIME_BLK'` and the `'DISTANCE_GROUP'` columns. The first feature lists the time blocks for United Airlines flights, ranging from midnight (`'0001'`) to 11:59pm, and separated into hour blocks (besides the first block). The second feature lists all 11 distance groups, where the first group travels the shortest distance, and the eleventh group travels the farthest. "
   ]
  },
  {
   "cell_type": "code",
   "execution_count": 18,
   "metadata": {
    "scrolled": true
   },
   "outputs": [
    {
     "data": {
      "text/plain": [
       "0001-0559    10189\n",
       "0600-0659    42020\n",
       "0700-0759    47223\n",
       "0800-0859    42906\n",
       "0900-0959    36314\n",
       "1000-1059    35549\n",
       "1100-1159    34927\n",
       "1200-1259    35124\n",
       "1300-1359    28503\n",
       "1400-1459    33245\n",
       "1500-1559    30224\n",
       "1600-1659    35246\n",
       "1700-1759    35880\n",
       "1800-1859    36416\n",
       "1900-1959    33797\n",
       "2000-2059    21716\n",
       "2100-2159    19542\n",
       "2200-2259    12919\n",
       "2300-2359    11199\n",
       "Name: DEP_TIME_BLK, dtype: int64"
      ]
     },
     "execution_count": 18,
     "metadata": {},
     "output_type": "execute_result"
    }
   ],
   "source": [
    "# Break down the records by departure time blocks\n",
    "data2['DEP_TIME_BLK'].value_counts().sort_index()"
   ]
  },
  {
   "cell_type": "code",
   "execution_count": 19,
   "metadata": {
    "scrolled": true
   },
   "outputs": [
    {
     "data": {
      "text/plain": [
       "1      29818\n",
       "2      66963\n",
       "3      80728\n",
       "4     112096\n",
       "5      65293\n",
       "6      46784\n",
       "7      60650\n",
       "8      23843\n",
       "9      16293\n",
       "10     50679\n",
       "11     29792\n",
       "Name: DISTANCE_GROUP, dtype: int64"
      ]
     },
     "execution_count": 19,
     "metadata": {},
     "output_type": "execute_result"
    }
   ],
   "source": [
    "# Break down the records by distance group\n",
    "data2['DISTANCE_GROUP'].value_counts().sort_index()"
   ]
  },
  {
   "cell_type": "code",
   "execution_count": 20,
   "metadata": {},
   "outputs": [
    {
     "data": {
      "image/png": "[encoded data removed]",
      "text/plain": [
       "<Figure size 1296x864 with 2 Axes>"
      ]
     },
     "metadata": {},
     "output_type": "display_data"
    }
   ],
   "source": [
    "# Plot feature distributions\n",
    "fig, ax = plt.subplots(1, 2, figsize=(18, 12))\n",
    "\n",
    "# Visualize the delay status by departure time block\n",
    "plot3 = sns.histplot(data2, x='DEP_TIME_BLK', hue='DELAYED', ax=ax[0], palette='bright', discrete=True)\n",
    "\n",
    "# Change legend labels\n",
    "new_title = 'Delay Status'\n",
    "plot3.legend_.set_title(new_title)\n",
    "new_labels = ['Not Delayed', 'Delayed']\n",
    "for t, l in zip(plot3.legend_.texts, new_labels):\n",
    "    t.set_text(l)\n",
    "\n",
    "# Add minor gridlines\n",
    "minor_locator = AutoMinorLocator(5)\n",
    "ax[0].yaxis.set_minor_locator(minor_locator)\n",
    "ax[0].set_axisbelow(True)\n",
    "plt.grid(which='both')\n",
    "\n",
    "# Rotate x-tick labels\n",
    "ax[0].tick_params(axis='x', labelrotation=75)\n",
    "ax[0].tick_params(which=\"both\", bottom=True)\n",
    "ax[0].set_xlabel(\"Departure Time Blocks\")\n",
    "ax[0].set_title(\"The Number of Delayed and Not-Delayed Flights by Departure Block\")\n",
    "    \n",
    "# Visualize the delay status by distance group  \n",
    "plot4 = sns.histplot(data2, x='DISTANCE_GROUP', hue='DELAYED', ax=ax[1], palette='bright', discrete=True)\n",
    "\n",
    "# Change legend labels\n",
    "new_title = 'Delay Status'\n",
    "plot4.legend_.set_title(new_title)\n",
    "new_labels = ['Not Delayed', 'Delayed']\n",
    "for t, l in zip(plot4.legend_.texts, new_labels):\n",
    "    t.set_text(l)\n",
    "    \n",
    "# Add minor gridlines\n",
    "minor_locator = AutoMinorLocator(5)\n",
    "ax[1].yaxis.set_minor_locator(minor_locator)\n",
    "ax[1].set_axisbelow(True)\n",
    "plt.grid(which='both')\n",
    "\n",
    "# Change x-tick labels to distance group (written form)\n",
    "num_xlabels = [1, 2, 3, 4, 5, 6, 7, 8, 9, 10, 11]\n",
    "str_xlabels = ['First', 'Second', 'Third', 'Fourth', 'Fifth', 'Sixth', 'Seventh', 'Eighth', 'Ninth', 'Tenth', 'Eleventh']\n",
    "ax[1].set_xticks(num_xlabels)\n",
    "ax[1].set_xticklabels(str_xlabels)\n",
    "ax[1].set_xlabel(\"Distance Group\")\n",
    "ax[1].set_title(\"The Number of Delayed and Not-Delayed Flights by Distance Group\");"
   ]
  },
  {
   "cell_type": "markdown",
   "metadata": {},
   "source": [
    "From what I see, the later time blocks (i.e., starting at 4pm to about 8pm) face the most delays. However, in the second visual, the third and fourth distance groups experience more delays, which is far less than those in higher distance groups. \n",
    "\n",
    "To be able to plot the rest of the features, I use both kdeplots and boxplots because the data within those columns are numerical and continuous in nature. I see that all six graphs contain outliers that affect the distribution one way or another, as well. "
   ]
  },
  {
   "cell_type": "code",
   "execution_count": 21,
   "metadata": {},
   "outputs": [
    {
     "data": {
      "image/png": "[encoded data removed]",
      "text/plain": [
       "<Figure size 1152x864 with 6 Axes>"
      ]
     },
     "metadata": {},
     "output_type": "display_data"
    }
   ],
   "source": [
    "# Plot the remaining continuous variables with the delay status \n",
    "fig, ax = plt.subplots(3, 2, figsize=(16, 12))\n",
    "kde1 = sns.kdeplot(data=data2, x=\"PRECIPITATION\", hue=\"DELAYED\", ax=ax[0,0])\n",
    "kde2 = sns.kdeplot(data=data2, x=\"SNOW\", hue=\"DELAYED\", ax=ax[0,1])\n",
    "kde3 = sns.kdeplot(data=data2, x=\"SNOW_ON_GROUND\", hue=\"DELAYED\", ax=ax[1,0])\n",
    "box1 = sns.boxplot(data=data2, x=\"PLANE_AGE\", y=\"DELAYED\", orient='h', ax=ax[1,1])\n",
    "box2 = sns.boxplot(data=data2, x=\"MAX_TEMP_FOR_DAY\", y=\"DELAYED\", orient='h', ax=ax[2,0])\n",
    "box3 = sns.boxplot(data=data2, x=\"MAX_WIND_FOR_DAY\", y=\"DELAYED\", orient='h', ax=ax[2,1]);\n",
    "\n",
    "# Change the legend in the kdeplots for better comprehension\n",
    "kdeplots = [kde1, kde2, kde3]\n",
    "for plot in kdeplots:\n",
    "    new_title = 'Delay Status'\n",
    "    plot.legend_.set_title(new_title)\n",
    "    new_labels = ['Not Delayed', 'Delayed']\n",
    "    for t, l in zip(plot.legend_.texts, new_labels):\n",
    "        t.set_text(l)\n",
    "    plot.set_xlim(-1, 6) \n",
    "\n",
    "# Change the y-axis label for the boxplots\n",
    "boxplots = [box1, box2, box3]\n",
    "for boxplot in boxplots:\n",
    "    boxplot.set(ylabel='Delay Status')"
   ]
  },
  {
   "cell_type": "markdown",
   "metadata": {},
   "source": [
    "It's time to examine the target, and confirm the class imbalance I mentioned earlier. First, I will plot my target as a bar plot, then as a pie chart. I plot both to show both the count and weight of each label in the dataset. "
   ]
  },
  {
   "cell_type": "code",
   "execution_count": 22,
   "metadata": {},
   "outputs": [
    {
     "data": {
      "image/png": "[encoded data removed]",
      "text/plain": [
       "<Figure size 864x720 with 1 Axes>"
      ]
     },
     "metadata": {},
     "output_type": "display_data"
    }
   ],
   "source": [
    "# Visualize the class (target) distribution\n",
    "fig, ax = plt.subplots(figsize=(12,10))\n",
    "\n",
    "# Add minor gridlines\n",
    "minor_locator = AutoMinorLocator(5)\n",
    "ax.yaxis.set_minor_locator(minor_locator)\n",
    "ax.set_axisbelow(True)\n",
    "plt.grid(which='both')\n",
    "\n",
    "# Plot the target \n",
    "sns.countplot(data=data2, x='DELAYED', orient='v')\n",
    "ax.set_title('Target Distribution')\n",
    "\n",
    "# Change x-tick labels and axis labels\n",
    "old_labels = [0, 1]\n",
    "new_xlabels = ['Not Delayed', 'Delayed']\n",
    "ax.set_xticks(old_labels)\n",
    "ax.set_xticklabels(new_xlabels)\n",
    "ax.set_xlabel(\"Flight Status\")\n",
    "ax.set_ylabel(\"Count\");"
   ]
  },
  {
   "cell_type": "markdown",
   "metadata": {},
   "source": [
    "The bar plot above further confirms my earlier speculation of a class imbalance - showing over 460,000 flights as `'Not Delayed'` and a little under 120,000 as `'Delayed'` flights. The pie plot below reinforces this observation, but with weights. I see that out of 600,000 flights, about 20% are delayed - this is quite high considering the high amount of flights taken in a year through United. "
   ]
  },
  {
   "cell_type": "code",
   "execution_count": 23,
   "metadata": {},
   "outputs": [
    {
     "data": {
      "image/png": "[encoded data removed]",
      "text/plain": [
       "<Figure size 864x720 with 1 Axes>"
      ]
     },
     "metadata": {},
     "output_type": "display_data"
    }
   ],
   "source": [
    "# Create a pie plot to further visualize the class distribution\n",
    "fig, ax = plt.subplots(figsize=(12, 10))\n",
    "data2['DELAYED'].value_counts().plot.pie(autopct='%.2f', title='Class Distribution', \n",
    "                                        labels=['Not Delayed', 'Delayed'], colors=['orangered', 'royalblue'])\n",
    "ax.yaxis.set_visible(False);"
   ]
  },
  {
   "cell_type": "markdown",
   "metadata": {},
   "source": [
    "I feel I've gained sufficient insight into how my data is structured and distributed; so, now it's time to begin modeling and building my algorithm. "
   ]
  },
  {
   "cell_type": "markdown",
   "metadata": {},
   "source": [
    "### Further Preprocessing:\n",
    "In order to properly model my dataframe, I need to encode the categorical features into quanitative data. I use pandas's `get_dummies` function to encode my five categorical columns into multiple, numerical columns; then list the first 5 records to confirm the transformation. "
   ]
  },
  {
   "cell_type": "code",
   "execution_count": 24,
   "metadata": {},
   "outputs": [],
   "source": [
    "# Encode categorical features\n",
    "cols_to_encode = ['MONTH', 'DAY_OF_WEEK', 'DEP_TIME_BLK', 'DISTANCE_GROUP', 'DEPARTING_AIRPORT']\n",
    "data2_enc = pd.get_dummies(data2, columns=cols_to_encode)"
   ]
  },
  {
   "cell_type": "code",
   "execution_count": 25,
   "metadata": {},
   "outputs": [
    {
     "data": {
      "text/html": [
       "<div>\n",
       "<style scoped>\n",
       "    .dataframe tbody tr th:only-of-type {\n",
       "        vertical-align: middle;\n",
       "    }\n",
       "\n",
       "    .dataframe tbody tr th {\n",
       "        vertical-align: top;\n",
       "    }\n",
       "\n",
       "    .dataframe thead th {\n",
       "        text-align: right;\n",
       "    }\n",
       "</style>\n",
       "<table border=\"1\" class=\"dataframe\">\n",
       "  <thead>\n",
       "    <tr style=\"text-align: right;\">\n",
       "      <th></th>\n",
       "      <th>PLANE_AGE</th>\n",
       "      <th>PRECIPITATION</th>\n",
       "      <th>SNOW</th>\n",
       "      <th>SNOW_ON_GROUND</th>\n",
       "      <th>MAX_TEMP_FOR_DAY</th>\n",
       "      <th>MAX_WIND_FOR_DAY</th>\n",
       "      <th>DELAYED</th>\n",
       "      <th>MONTH_1</th>\n",
       "      <th>MONTH_2</th>\n",
       "      <th>MONTH_3</th>\n",
       "      <th>...</th>\n",
       "      <th>DEPARTING_AIRPORT_Standiford Field</th>\n",
       "      <th>DEPARTING_AIRPORT_Stapleton International</th>\n",
       "      <th>DEPARTING_AIRPORT_Syracuse Hancock International</th>\n",
       "      <th>DEPARTING_AIRPORT_Tampa International</th>\n",
       "      <th>DEPARTING_AIRPORT_Theodore Francis Green State</th>\n",
       "      <th>DEPARTING_AIRPORT_Truax Field</th>\n",
       "      <th>DEPARTING_AIRPORT_Tucson International</th>\n",
       "      <th>DEPARTING_AIRPORT_Tulsa International</th>\n",
       "      <th>DEPARTING_AIRPORT_Washington Dulles International</th>\n",
       "      <th>DEPARTING_AIRPORT_Will Rogers World</th>\n",
       "    </tr>\n",
       "  </thead>\n",
       "  <tbody>\n",
       "    <tr>\n",
       "      <th>21</th>\n",
       "      <td>6</td>\n",
       "      <td>0.0</td>\n",
       "      <td>0.0</td>\n",
       "      <td>0.0</td>\n",
       "      <td>65.0</td>\n",
       "      <td>2.91</td>\n",
       "      <td>0</td>\n",
       "      <td>1</td>\n",
       "      <td>0</td>\n",
       "      <td>0</td>\n",
       "      <td>...</td>\n",
       "      <td>0</td>\n",
       "      <td>0</td>\n",
       "      <td>0</td>\n",
       "      <td>0</td>\n",
       "      <td>0</td>\n",
       "      <td>0</td>\n",
       "      <td>0</td>\n",
       "      <td>0</td>\n",
       "      <td>0</td>\n",
       "      <td>0</td>\n",
       "    </tr>\n",
       "    <tr>\n",
       "      <th>22</th>\n",
       "      <td>22</td>\n",
       "      <td>0.0</td>\n",
       "      <td>0.0</td>\n",
       "      <td>0.0</td>\n",
       "      <td>65.0</td>\n",
       "      <td>2.91</td>\n",
       "      <td>0</td>\n",
       "      <td>1</td>\n",
       "      <td>0</td>\n",
       "      <td>0</td>\n",
       "      <td>...</td>\n",
       "      <td>0</td>\n",
       "      <td>0</td>\n",
       "      <td>0</td>\n",
       "      <td>0</td>\n",
       "      <td>0</td>\n",
       "      <td>0</td>\n",
       "      <td>0</td>\n",
       "      <td>0</td>\n",
       "      <td>0</td>\n",
       "      <td>0</td>\n",
       "    </tr>\n",
       "    <tr>\n",
       "      <th>23</th>\n",
       "      <td>3</td>\n",
       "      <td>0.0</td>\n",
       "      <td>0.0</td>\n",
       "      <td>0.0</td>\n",
       "      <td>65.0</td>\n",
       "      <td>2.91</td>\n",
       "      <td>0</td>\n",
       "      <td>1</td>\n",
       "      <td>0</td>\n",
       "      <td>0</td>\n",
       "      <td>...</td>\n",
       "      <td>0</td>\n",
       "      <td>0</td>\n",
       "      <td>0</td>\n",
       "      <td>0</td>\n",
       "      <td>0</td>\n",
       "      <td>0</td>\n",
       "      <td>0</td>\n",
       "      <td>0</td>\n",
       "      <td>0</td>\n",
       "      <td>0</td>\n",
       "    </tr>\n",
       "    <tr>\n",
       "      <th>24</th>\n",
       "      <td>19</td>\n",
       "      <td>0.0</td>\n",
       "      <td>0.0</td>\n",
       "      <td>0.0</td>\n",
       "      <td>65.0</td>\n",
       "      <td>2.91</td>\n",
       "      <td>1</td>\n",
       "      <td>1</td>\n",
       "      <td>0</td>\n",
       "      <td>0</td>\n",
       "      <td>...</td>\n",
       "      <td>0</td>\n",
       "      <td>0</td>\n",
       "      <td>0</td>\n",
       "      <td>0</td>\n",
       "      <td>0</td>\n",
       "      <td>0</td>\n",
       "      <td>0</td>\n",
       "      <td>0</td>\n",
       "      <td>0</td>\n",
       "      <td>0</td>\n",
       "    </tr>\n",
       "    <tr>\n",
       "      <th>25</th>\n",
       "      <td>4</td>\n",
       "      <td>0.0</td>\n",
       "      <td>0.0</td>\n",
       "      <td>0.0</td>\n",
       "      <td>65.0</td>\n",
       "      <td>2.91</td>\n",
       "      <td>0</td>\n",
       "      <td>1</td>\n",
       "      <td>0</td>\n",
       "      <td>0</td>\n",
       "      <td>...</td>\n",
       "      <td>0</td>\n",
       "      <td>0</td>\n",
       "      <td>0</td>\n",
       "      <td>0</td>\n",
       "      <td>0</td>\n",
       "      <td>0</td>\n",
       "      <td>0</td>\n",
       "      <td>0</td>\n",
       "      <td>0</td>\n",
       "      <td>0</td>\n",
       "    </tr>\n",
       "  </tbody>\n",
       "</table>\n",
       "<p>5 rows × 140 columns</p>\n",
       "</div>"
      ],
      "text/plain": [
       "    PLANE_AGE  PRECIPITATION  SNOW  SNOW_ON_GROUND  MAX_TEMP_FOR_DAY  \\\n",
       "21          6            0.0   0.0             0.0              65.0   \n",
       "22         22            0.0   0.0             0.0              65.0   \n",
       "23          3            0.0   0.0             0.0              65.0   \n",
       "24         19            0.0   0.0             0.0              65.0   \n",
       "25          4            0.0   0.0             0.0              65.0   \n",
       "\n",
       "    MAX_WIND_FOR_DAY  DELAYED  MONTH_1  MONTH_2  MONTH_3  ...  \\\n",
       "21              2.91        0        1        0        0  ...   \n",
       "22              2.91        0        1        0        0  ...   \n",
       "23              2.91        0        1        0        0  ...   \n",
       "24              2.91        1        1        0        0  ...   \n",
       "25              2.91        0        1        0        0  ...   \n",
       "\n",
       "    DEPARTING_AIRPORT_Standiford Field  \\\n",
       "21                                   0   \n",
       "22                                   0   \n",
       "23                                   0   \n",
       "24                                   0   \n",
       "25                                   0   \n",
       "\n",
       "    DEPARTING_AIRPORT_Stapleton International  \\\n",
       "21                                          0   \n",
       "22                                          0   \n",
       "23                                          0   \n",
       "24                                          0   \n",
       "25                                          0   \n",
       "\n",
       "    DEPARTING_AIRPORT_Syracuse Hancock International  \\\n",
       "21                                                 0   \n",
       "22                                                 0   \n",
       "23                                                 0   \n",
       "24                                                 0   \n",
       "25                                                 0   \n",
       "\n",
       "    DEPARTING_AIRPORT_Tampa International  \\\n",
       "21                                      0   \n",
       "22                                      0   \n",
       "23                                      0   \n",
       "24                                      0   \n",
       "25                                      0   \n",
       "\n",
       "    DEPARTING_AIRPORT_Theodore Francis Green State  \\\n",
       "21                                               0   \n",
       "22                                               0   \n",
       "23                                               0   \n",
       "24                                               0   \n",
       "25                                               0   \n",
       "\n",
       "    DEPARTING_AIRPORT_Truax Field  DEPARTING_AIRPORT_Tucson International  \\\n",
       "21                              0                                       0   \n",
       "22                              0                                       0   \n",
       "23                              0                                       0   \n",
       "24                              0                                       0   \n",
       "25                              0                                       0   \n",
       "\n",
       "    DEPARTING_AIRPORT_Tulsa International  \\\n",
       "21                                      0   \n",
       "22                                      0   \n",
       "23                                      0   \n",
       "24                                      0   \n",
       "25                                      0   \n",
       "\n",
       "    DEPARTING_AIRPORT_Washington Dulles International  \\\n",
       "21                                                  0   \n",
       "22                                                  0   \n",
       "23                                                  0   \n",
       "24                                                  0   \n",
       "25                                                  0   \n",
       "\n",
       "    DEPARTING_AIRPORT_Will Rogers World  \n",
       "21                                    0  \n",
       "22                                    0  \n",
       "23                                    0  \n",
       "24                                    0  \n",
       "25                                    0  \n",
       "\n",
       "[5 rows x 140 columns]"
      ]
     },
     "execution_count": 25,
     "metadata": {},
     "output_type": "execute_result"
    }
   ],
   "source": [
    "# List the first five records to confirm the transformation\n",
    "data2_enc.head()"
   ]
  },
  {
   "cell_type": "markdown",
   "metadata": {},
   "source": [
    "The dataset above will serve as my final dataframe, but I will also divide it into a training, testing and validation set. I will split the data 75/25, with 25% of the dataset reserved for the test set, and a seed set for reproducibility. Now, I will split the test data even further (by half, actually) into a smaller test set and a newly-formed validation set to iterate through my modeling process. I check the shape multiple times to be sure the data stays intact. "
   ]
  },
  {
   "cell_type": "code",
   "execution_count": 26,
   "metadata": {},
   "outputs": [
    {
     "data": {
      "text/plain": [
       "(437204, 139)"
      ]
     },
     "execution_count": 26,
     "metadata": {},
     "output_type": "execute_result"
    }
   ],
   "source": [
    "# Split the dataset into training and testing sets\n",
    "y = data2_enc['DELAYED']\n",
    "X = data2_enc.drop('DELAYED', axis=1)\n",
    "\n",
    "X_train, X_test, y_train, y_test = train_test_split(X, y, test_size=.25, random_state=seed)\n",
    "X_train.shape"
   ]
  },
  {
   "cell_type": "code",
   "execution_count": 27,
   "metadata": {},
   "outputs": [
    {
     "data": {
      "text/plain": [
       "(72868, 139)"
      ]
     },
     "execution_count": 27,
     "metadata": {},
     "output_type": "execute_result"
    }
   ],
   "source": [
    "# Split the test dataset in half to create a validation dataset\n",
    "X_test, X_val, y_test, y_val = train_test_split(X_test, y_test, test_size=.5, random_state=seed)\n",
    "X_val.shape"
   ]
  },
  {
   "cell_type": "markdown",
   "metadata": {},
   "source": [
    "Given the initial class imbalance, I need to apply a sampling technique - specifically, undersampling - to reduce the majority class (`'Not Delayed'`) in my data to an even ratio with the minority class (`'Delayed'`). I plot the pie chart and class weights once again, but this time expecting an even ratio."
   ]
  },
  {
   "cell_type": "code",
   "execution_count": 28,
   "metadata": {},
   "outputs": [],
   "source": [
    "# Instantiate the RandomUnderSampler function and undersample the training data\n",
    "rus = RandomUnderSampler(sampling_strategy=1, random_state=seed) # Numerical value\n",
    "X_train_res, y_train_res = rus.fit_resample(X_train, y_train)"
   ]
  },
  {
   "cell_type": "code",
   "execution_count": 29,
   "metadata": {},
   "outputs": [
    {
     "data": {
      "image/png": "[encoded data removed]",
      "text/plain": [
       "<Figure size 864x720 with 1 Axes>"
      ]
     },
     "metadata": {},
     "output_type": "display_data"
    }
   ],
   "source": [
    "# Visualize the balanced class distribution\n",
    "fig, ax = plt.subplots(figsize=(12, 10))\n",
    "y_train_res.value_counts().plot.pie(autopct='%.2f', title='Class Distribution of the Target Variable', \n",
    "                                        labels=['Not Delayed', 'Delayed'], colors=['orangered', 'royalblue'])\n",
    "ax.yaxis.set_visible(False);"
   ]
  },
  {
   "cell_type": "markdown",
   "metadata": {},
   "source": [
    "As shown above, the undersampling method worked! To see just how much my training data has been reduced, I print the shape of the reshaped training data below. I see that the dataset now has 173,382 observations to train my model on, and that the features remained intact. This reduction in observations should make modeling easier within my computational constraints."
   ]
  },
  {
   "cell_type": "code",
   "execution_count": 30,
   "metadata": {},
   "outputs": [
    {
     "data": {
      "text/plain": [
       "(173382, 139)"
      ]
     },
     "execution_count": 30,
     "metadata": {},
     "output_type": "execute_result"
    }
   ],
   "source": [
    "# Print the balanced training dataset's shape\n",
    "X_train_res.shape"
   ]
  },
  {
   "cell_type": "markdown",
   "metadata": {},
   "source": [
    "## Modeling\n",
    "\n",
    "Now it's time to begin modeling! I will create a few baseline models, to start, then cross-validate 4 different classifiers, and evaluate them based on precision, recall, and f1 scores. As a reminder, my main focus is to improve precision, and consequently, the false positive count. The false positive count, in this case, represents the amount of on-time flights predicted as delays. This is crucial because if not addressed properly, the model could spread misinformation, and lead to passengers missing their on-time flights. This would lead to further consumer disapproval, and hurt the company's sales and reputation. However, I will still track the recall score (or the amount of false negatives), and the f1 score, which is the harmonic mean of precision and recall. The baseline model with the best trio of average metric scores will be selected to undergo hyperparameter tuning and further evaluation.\n",
    "\n",
    "### Baseline Modeling:\n",
    "\n",
    "I will begin by using `imblearn`'s `make_pipeline` function in order to pass a sampler along with a scaler and classifier into my pipeline(s). I cross-validate these pipelines in 3 folds, then take the average of each score and print them for each classifier. "
   ]
  },
  {
   "cell_type": "code",
   "execution_count": 31,
   "metadata": {},
   "outputs": [
    {
     "name": "stdout",
     "output_type": "stream",
     "text": [
      "Test precision, recall and F1 scores for Decision Tree: [0.2036319709613683, 0.4754932502596054, 0.2811930503015776]\n",
      "\n",
      "Test precision, recall and F1 scores for Random Forest: [0.24767570247321194, 0.5141658013153341, 0.3253398416456819]\n",
      "\n",
      "Test precision, recall and F1 scores for AdaBoost: [0.24669017438739085, 0.5515057113187954, 0.3356349773479644]\n",
      "\n",
      "Test precision, recall and F1 scores for Gradient Boosting: [0.24535113500312686, 0.5704395984769817, 0.3380784192923488]\n",
      "\n"
     ]
    }
   ],
   "source": [
    "# Make two lists, one containing classifier names and the other containing the classifiers\n",
    "classifier_names = ['Decision Tree', 'Random Forest', 'AdaBoost', 'Gradient Boosting']\n",
    "classifiers = [DecisionTreeClassifier(random_state=seed), RandomForestClassifier(random_state=seed), \n",
    "               AdaBoostClassifier(random_state=seed), GradientBoostingClassifier(random_state=seed)]\n",
    "\n",
    "# Loop through the two lists to create a Pipeline, cross-validate the model, and print the relevant scores\n",
    "for name, classifier in zip(classifier_names, classifiers):\n",
    "    pipe = make_pipeline((RandomUnderSampler(sampling_strategy=1, random_state=seed)),\n",
    "                          (MinMaxScaler()),\n",
    "                          (classifier))\n",
    "    score = cross_validate(pipe, X, y, cv=3, scoring=['precision', 'recall', 'f1'])\n",
    "    model_scores = []\n",
    "    keys = ['test_precision', 'test_recall', 'test_f1']\n",
    "    for key in keys:\n",
    "        model_scores.append(np.mean(score[key]))\n",
    "    print(\"Test precision, recall and F1 scores for {}: {}\\n\".format(name, model_scores))"
   ]
  },
  {
   "cell_type": "markdown",
   "metadata": {},
   "source": [
    "Based on the precision scores listed above, it seems that the Random Forest, AdaBoost, and GradientBoosting Classifiers are better than Decision Trees, which eliminates that model from further iterating. It is tough to select which of the remaining three is \"best\" due to how close their precision scores are. Fortunately, I can use the other two scores (recall and f1) to help me narrow it down. Despite the Random Forest classifier having the highest precision score (approximately 0.248), it is the  GradientBoosting model that has the best **trio** of scores (0.245, 0.570, 0.338). The GradientBoosting Classifier's precision is slightly lower than the Random Forest's, but that 0.002 different seems negligible enough to select the former as the best baseline model, especially with the highest recall and f1 scores, as well. \n",
    "\n",
    "Unfortunately, 24.5% precision is still poor, and needs to be improved with some hyperparameter tuning. "
   ]
  },
  {
   "cell_type": "markdown",
   "metadata": {},
   "source": [
    "### Tuning the \"Best\" Baseline Model:\n",
    "\n",
    "In order to keep in line with the business objectives, I need to set the `scoring` parameter to the three metrics I have been tracking so far. I will create a dictionary object that holds these three scores, and pass it into the `GridSearchCV` function. I will also pass a pipeline into the function, that will apply `MinMaxScaler`, `PCA`, and my chosen classifier over the folds (which in this case, is 3) from the exhaustive grid search process. My last step before fitting the grid search object is to create a parameter grid for the function to circulate through. I include parameters for my classifier, and for the `PCA` function, which is my attempt to reduce the dimensionality of my data. Once I've set all the relevant parameters, I fit the grid search object.\n",
    "\n",
    ">Note: Depending on computational constraints, the code can take over **4 hours** to fully run!"
   ]
  },
  {
   "cell_type": "code",
   "execution_count": 32,
   "metadata": {},
   "outputs": [],
   "source": [
    "# Create a dictionary of relevant scoring metrics\n",
    "scorers = {'precision_score': make_scorer(precision_score), \n",
    "           'recall_score': make_scorer(recall_score),\n",
    "           'f1_score': make_scorer(f1_score)}\n",
    "\n",
    "# Create a Pipeline with a scaler and pca step\n",
    "gbt_pipe = Pipeline(steps=[('scaler', MinMaxScaler()),\n",
    "                           ('pca', PCA(random_state=seed)),\n",
    "                           ('classifier', GradientBoostingClassifier(random_state=seed))])\n",
    "\n",
    "# Create a parameter grid for the GradientBoosting Classifier\n",
    "gbt_param_grid = {'pca__n_components': [5, 10, 25, 50],\n",
    "                  'classifier__n_estimators': [50, 75, 100],\n",
    "                  'classifier__learning_rate': [1, 0.1, 0.01]}\n",
    "\n",
    "# Instantiate the GridSearchCV function with the 'refit' parameter set to 'precision_score'\n",
    "gbt_gridsearch = GridSearchCV(gbt_pipe, gbt_param_grid, scoring=scorers,\n",
    "                              refit='precision_score', verbose=3, cv=3)"
   ]
  },
  {
   "cell_type": "code",
   "execution_count": 33,
   "metadata": {
    "scrolled": true
   },
   "outputs": [
    {
     "name": "stdout",
     "output_type": "stream",
     "text": [
      "Fitting 3 folds for each of 36 candidates, totalling 108 fits\n",
      "[CV] classifier__learning_rate=1, classifier__n_estimators=50, pca__n_components=5 \n"
     ]
    },
    {
     "name": "stderr",
     "output_type": "stream",
     "text": [
      "[Parallel(n_jobs=1)]: Using backend SequentialBackend with 1 concurrent workers.\n"
     ]
    },
    {
     "name": "stdout",
     "output_type": "stream",
     "text": [
      "[CV]  classifier__learning_rate=1, classifier__n_estimators=50, pca__n_components=5, f1_score=0.509, precision_score=0.542, recall_score=0.480, total=  18.3s\n",
      "[CV] classifier__learning_rate=1, classifier__n_estimators=50, pca__n_components=5 \n"
     ]
    },
    {
     "name": "stderr",
     "output_type": "stream",
     "text": [
      "[Parallel(n_jobs=1)]: Done   1 out of   1 | elapsed:   18.2s remaining:    0.0s\n"
     ]
    },
    {
     "name": "stdout",
     "output_type": "stream",
     "text": [
      "[CV]  classifier__learning_rate=1, classifier__n_estimators=50, pca__n_components=5, f1_score=0.520, precision_score=0.545, recall_score=0.497, total=  19.4s\n",
      "[CV] classifier__learning_rate=1, classifier__n_estimators=50, pca__n_components=5 \n"
     ]
    },
    {
     "name": "stderr",
     "output_type": "stream",
     "text": [
      "[Parallel(n_jobs=1)]: Done   2 out of   2 | elapsed:   37.7s remaining:    0.0s\n"
     ]
    },
    {
     "name": "stdout",
     "output_type": "stream",
     "text": [
      "[CV]  classifier__learning_rate=1, classifier__n_estimators=50, pca__n_components=5, f1_score=0.522, precision_score=0.548, recall_score=0.498, total=  18.7s\n",
      "[CV] classifier__learning_rate=1, classifier__n_estimators=50, pca__n_components=10 \n",
      "[CV]  classifier__learning_rate=1, classifier__n_estimators=50, pca__n_components=10, f1_score=0.530, precision_score=0.559, recall_score=0.504, total=  35.4s\n",
      "[CV] classifier__learning_rate=1, classifier__n_estimators=50, pca__n_components=10 \n",
      "[CV]  classifier__learning_rate=1, classifier__n_estimators=50, pca__n_components=10, f1_score=0.535, precision_score=0.562, recall_score=0.510, total=  33.1s\n",
      "[CV] classifier__learning_rate=1, classifier__n_estimators=50, pca__n_components=10 \n",
      "[CV]  classifier__learning_rate=1, classifier__n_estimators=50, pca__n_components=10, f1_score=0.541, precision_score=0.565, recall_score=0.519, total=  31.0s\n",
      "[CV] classifier__learning_rate=1, classifier__n_estimators=50, pca__n_components=25 \n",
      "[CV]  classifier__learning_rate=1, classifier__n_estimators=50, pca__n_components=25, f1_score=0.589, precision_score=0.591, recall_score=0.586, total= 1.2min\n",
      "[CV] classifier__learning_rate=1, classifier__n_estimators=50, pca__n_components=25 \n",
      "[CV]  classifier__learning_rate=1, classifier__n_estimators=50, pca__n_components=25, f1_score=0.597, precision_score=0.594, recall_score=0.601, total= 1.6min\n",
      "[CV] classifier__learning_rate=1, classifier__n_estimators=50, pca__n_components=25 \n",
      "[CV]  classifier__learning_rate=1, classifier__n_estimators=50, pca__n_components=25, f1_score=0.592, precision_score=0.597, recall_score=0.587, total= 1.4min\n",
      "[CV] classifier__learning_rate=1, classifier__n_estimators=50, pca__n_components=50 \n",
      "[CV]  classifier__learning_rate=1, classifier__n_estimators=50, pca__n_components=50, f1_score=0.622, precision_score=0.607, recall_score=0.638, total= 2.6min\n",
      "[CV] classifier__learning_rate=1, classifier__n_estimators=50, pca__n_components=50 \n",
      "[CV]  classifier__learning_rate=1, classifier__n_estimators=50, pca__n_components=50, f1_score=0.627, precision_score=0.605, recall_score=0.652, total= 2.9min\n",
      "[CV] classifier__learning_rate=1, classifier__n_estimators=50, pca__n_components=50 \n",
      "[CV]  classifier__learning_rate=1, classifier__n_estimators=50, pca__n_components=50, f1_score=0.626, precision_score=0.608, recall_score=0.646, total= 2.9min\n",
      "[CV] classifier__learning_rate=1, classifier__n_estimators=75, pca__n_components=5 \n",
      "[CV]  classifier__learning_rate=1, classifier__n_estimators=75, pca__n_components=5, f1_score=0.511, precision_score=0.541, recall_score=0.484, total=  26.5s\n",
      "[CV] classifier__learning_rate=1, classifier__n_estimators=75, pca__n_components=5 \n",
      "[CV]  classifier__learning_rate=1, classifier__n_estimators=75, pca__n_components=5, f1_score=0.520, precision_score=0.543, recall_score=0.499, total=  24.8s\n",
      "[CV] classifier__learning_rate=1, classifier__n_estimators=75, pca__n_components=5 \n",
      "[CV]  classifier__learning_rate=1, classifier__n_estimators=75, pca__n_components=5, f1_score=0.518, precision_score=0.547, recall_score=0.492, total=  24.6s\n",
      "[CV] classifier__learning_rate=1, classifier__n_estimators=75, pca__n_components=10 \n",
      "[CV]  classifier__learning_rate=1, classifier__n_estimators=75, pca__n_components=10, f1_score=0.535, precision_score=0.562, recall_score=0.510, total=  52.3s\n",
      "[CV] classifier__learning_rate=1, classifier__n_estimators=75, pca__n_components=10 \n",
      "[CV]  classifier__learning_rate=1, classifier__n_estimators=75, pca__n_components=10, f1_score=0.539, precision_score=0.564, recall_score=0.515, total=  50.5s\n",
      "[CV] classifier__learning_rate=1, classifier__n_estimators=75, pca__n_components=10 \n",
      "[CV]  classifier__learning_rate=1, classifier__n_estimators=75, pca__n_components=10, f1_score=0.546, precision_score=0.566, recall_score=0.526, total=  46.2s\n",
      "[CV] classifier__learning_rate=1, classifier__n_estimators=75, pca__n_components=25 \n",
      "[CV]  classifier__learning_rate=1, classifier__n_estimators=75, pca__n_components=25, f1_score=0.590, precision_score=0.592, recall_score=0.587, total= 2.1min\n",
      "[CV] classifier__learning_rate=1, classifier__n_estimators=75, pca__n_components=25 \n",
      "[CV]  classifier__learning_rate=1, classifier__n_estimators=75, pca__n_components=25, f1_score=0.595, precision_score=0.593, recall_score=0.596, total= 2.1min\n",
      "[CV] classifier__learning_rate=1, classifier__n_estimators=75, pca__n_components=25 \n",
      "[CV]  classifier__learning_rate=1, classifier__n_estimators=75, pca__n_components=25, f1_score=0.592, precision_score=0.597, recall_score=0.588, total= 2.1min\n",
      "[CV] classifier__learning_rate=1, classifier__n_estimators=75, pca__n_components=50 \n",
      "[CV]  classifier__learning_rate=1, classifier__n_estimators=75, pca__n_components=50, f1_score=0.623, precision_score=0.609, recall_score=0.638, total= 4.3min\n",
      "[CV] classifier__learning_rate=1, classifier__n_estimators=75, pca__n_components=50 \n",
      "[CV]  classifier__learning_rate=1, classifier__n_estimators=75, pca__n_components=50, f1_score=0.627, precision_score=0.606, recall_score=0.648, total= 4.3min\n",
      "[CV] classifier__learning_rate=1, classifier__n_estimators=75, pca__n_components=50 \n",
      "[CV]  classifier__learning_rate=1, classifier__n_estimators=75, pca__n_components=50, f1_score=0.625, precision_score=0.608, recall_score=0.643, total= 4.3min\n",
      "[CV] classifier__learning_rate=1, classifier__n_estimators=100, pca__n_components=5 \n",
      "[CV]  classifier__learning_rate=1, classifier__n_estimators=100, pca__n_components=5, f1_score=0.514, precision_score=0.539, recall_score=0.492, total=  34.3s\n",
      "[CV] classifier__learning_rate=1, classifier__n_estimators=100, pca__n_components=5 \n",
      "[CV]  classifier__learning_rate=1, classifier__n_estimators=100, pca__n_components=5, f1_score=0.518, precision_score=0.542, recall_score=0.495, total=  32.8s\n",
      "[CV] classifier__learning_rate=1, classifier__n_estimators=100, pca__n_components=5 \n",
      "[CV]  classifier__learning_rate=1, classifier__n_estimators=100, pca__n_components=5, f1_score=0.518, precision_score=0.548, recall_score=0.491, total=  32.5s\n",
      "[CV] classifier__learning_rate=1, classifier__n_estimators=100, pca__n_components=10 \n",
      "[CV]  classifier__learning_rate=1, classifier__n_estimators=100, pca__n_components=10, f1_score=0.535, precision_score=0.563, recall_score=0.510, total= 1.1min\n",
      "[CV] classifier__learning_rate=1, classifier__n_estimators=100, pca__n_components=10 \n",
      "[CV]  classifier__learning_rate=1, classifier__n_estimators=100, pca__n_components=10, f1_score=0.540, precision_score=0.565, recall_score=0.518, total= 1.1min\n",
      "[CV] classifier__learning_rate=1, classifier__n_estimators=100, pca__n_components=10 \n",
      "[CV]  classifier__learning_rate=1, classifier__n_estimators=100, pca__n_components=10, f1_score=0.549, precision_score=0.568, recall_score=0.531, total= 1.1min\n",
      "[CV] classifier__learning_rate=1, classifier__n_estimators=100, pca__n_components=25 \n",
      "[CV]  classifier__learning_rate=1, classifier__n_estimators=100, pca__n_components=25, f1_score=0.590, precision_score=0.592, recall_score=0.587, total= 2.8min\n",
      "[CV] classifier__learning_rate=1, classifier__n_estimators=100, pca__n_components=25 \n",
      "[CV]  classifier__learning_rate=1, classifier__n_estimators=100, pca__n_components=25, f1_score=0.594, precision_score=0.594, recall_score=0.594, total= 2.8min\n",
      "[CV] classifier__learning_rate=1, classifier__n_estimators=100, pca__n_components=25 \n",
      "[CV]  classifier__learning_rate=1, classifier__n_estimators=100, pca__n_components=25, f1_score=0.590, precision_score=0.597, recall_score=0.584, total= 2.5min\n",
      "[CV] classifier__learning_rate=1, classifier__n_estimators=100, pca__n_components=50 \n",
      "[CV]  classifier__learning_rate=1, classifier__n_estimators=100, pca__n_components=50, f1_score=0.620, precision_score=0.608, recall_score=0.632, total= 5.8min\n",
      "[CV] classifier__learning_rate=1, classifier__n_estimators=100, pca__n_components=50 \n",
      "[CV]  classifier__learning_rate=1, classifier__n_estimators=100, pca__n_components=50, f1_score=0.623, precision_score=0.605, recall_score=0.642, total= 5.7min\n",
      "[CV] classifier__learning_rate=1, classifier__n_estimators=100, pca__n_components=50 \n",
      "[CV]  classifier__learning_rate=1, classifier__n_estimators=100, pca__n_components=50, f1_score=0.623, precision_score=0.608, recall_score=0.639, total= 5.7min\n",
      "[CV] classifier__learning_rate=0.1, classifier__n_estimators=50, pca__n_components=5 \n"
     ]
    },
    {
     "name": "stdout",
     "output_type": "stream",
     "text": [
      "[CV]  classifier__learning_rate=0.1, classifier__n_estimators=50, pca__n_components=5, f1_score=0.517, precision_score=0.535, recall_score=0.501, total=  18.6s\n",
      "[CV] classifier__learning_rate=0.1, classifier__n_estimators=50, pca__n_components=5 \n",
      "[CV]  classifier__learning_rate=0.1, classifier__n_estimators=50, pca__n_components=5, f1_score=0.523, precision_score=0.543, recall_score=0.505, total=  17.2s\n",
      "[CV] classifier__learning_rate=0.1, classifier__n_estimators=50, pca__n_components=5 \n",
      "[CV]  classifier__learning_rate=0.1, classifier__n_estimators=50, pca__n_components=5, f1_score=0.517, precision_score=0.547, recall_score=0.490, total=  18.6s\n",
      "[CV] classifier__learning_rate=0.1, classifier__n_estimators=50, pca__n_components=10 \n",
      "[CV]  classifier__learning_rate=0.1, classifier__n_estimators=50, pca__n_components=10, f1_score=0.530, precision_score=0.552, recall_score=0.510, total=  31.5s\n",
      "[CV] classifier__learning_rate=0.1, classifier__n_estimators=50, pca__n_components=10 \n",
      "[CV]  classifier__learning_rate=0.1, classifier__n_estimators=50, pca__n_components=10, f1_score=0.531, precision_score=0.557, recall_score=0.507, total=  31.7s\n",
      "[CV] classifier__learning_rate=0.1, classifier__n_estimators=50, pca__n_components=10 \n",
      "[CV]  classifier__learning_rate=0.1, classifier__n_estimators=50, pca__n_components=10, f1_score=0.528, precision_score=0.557, recall_score=0.502, total=  31.7s\n",
      "[CV] classifier__learning_rate=0.1, classifier__n_estimators=50, pca__n_components=25 \n",
      "[CV]  classifier__learning_rate=0.1, classifier__n_estimators=50, pca__n_components=25, f1_score=0.576, precision_score=0.586, recall_score=0.566, total= 1.4min\n",
      "[CV] classifier__learning_rate=0.1, classifier__n_estimators=50, pca__n_components=25 \n",
      "[CV]  classifier__learning_rate=0.1, classifier__n_estimators=50, pca__n_components=25, f1_score=0.589, precision_score=0.584, recall_score=0.593, total= 1.4min\n",
      "[CV] classifier__learning_rate=0.1, classifier__n_estimators=50, pca__n_components=25 \n",
      "[CV]  classifier__learning_rate=0.1, classifier__n_estimators=50, pca__n_components=25, f1_score=0.577, precision_score=0.588, recall_score=0.566, total= 1.4min\n",
      "[CV] classifier__learning_rate=0.1, classifier__n_estimators=50, pca__n_components=50 \n",
      "[CV]  classifier__learning_rate=0.1, classifier__n_estimators=50, pca__n_components=50, f1_score=0.630, precision_score=0.594, recall_score=0.670, total= 2.8min\n",
      "[CV] classifier__learning_rate=0.1, classifier__n_estimators=50, pca__n_components=50 \n",
      "[CV]  classifier__learning_rate=0.1, classifier__n_estimators=50, pca__n_components=50, f1_score=0.638, precision_score=0.594, recall_score=0.689, total= 2.9min\n",
      "[CV] classifier__learning_rate=0.1, classifier__n_estimators=50, pca__n_components=50 \n",
      "[CV]  classifier__learning_rate=0.1, classifier__n_estimators=50, pca__n_components=50, f1_score=0.635, precision_score=0.598, recall_score=0.675, total= 2.9min\n",
      "[CV] classifier__learning_rate=0.1, classifier__n_estimators=75, pca__n_components=5 \n",
      "[CV]  classifier__learning_rate=0.1, classifier__n_estimators=75, pca__n_components=5, f1_score=0.517, precision_score=0.539, recall_score=0.497, total=  27.3s\n",
      "[CV] classifier__learning_rate=0.1, classifier__n_estimators=75, pca__n_components=5 \n",
      "[CV]  classifier__learning_rate=0.1, classifier__n_estimators=75, pca__n_components=5, f1_score=0.524, precision_score=0.544, recall_score=0.506, total=  27.7s\n",
      "[CV] classifier__learning_rate=0.1, classifier__n_estimators=75, pca__n_components=5 \n",
      "[CV]  classifier__learning_rate=0.1, classifier__n_estimators=75, pca__n_components=5, f1_score=0.522, precision_score=0.547, recall_score=0.499, total=  25.6s\n",
      "[CV] classifier__learning_rate=0.1, classifier__n_estimators=75, pca__n_components=10 \n",
      "[CV]  classifier__learning_rate=0.1, classifier__n_estimators=75, pca__n_components=10, f1_score=0.534, precision_score=0.554, recall_score=0.516, total=  52.0s\n",
      "[CV] classifier__learning_rate=0.1, classifier__n_estimators=75, pca__n_components=10 \n",
      "[CV]  classifier__learning_rate=0.1, classifier__n_estimators=75, pca__n_components=10, f1_score=0.537, precision_score=0.561, recall_score=0.515, total=  50.4s\n",
      "[CV] classifier__learning_rate=0.1, classifier__n_estimators=75, pca__n_components=10 \n",
      "[CV]  classifier__learning_rate=0.1, classifier__n_estimators=75, pca__n_components=10, f1_score=0.534, precision_score=0.559, recall_score=0.511, total=  53.1s\n",
      "[CV] classifier__learning_rate=0.1, classifier__n_estimators=75, pca__n_components=25 \n",
      "[CV]  classifier__learning_rate=0.1, classifier__n_estimators=75, pca__n_components=25, f1_score=0.581, precision_score=0.589, recall_score=0.573, total= 2.2min\n",
      "[CV] classifier__learning_rate=0.1, classifier__n_estimators=75, pca__n_components=25 \n",
      "[CV]  classifier__learning_rate=0.1, classifier__n_estimators=75, pca__n_components=25, f1_score=0.593, precision_score=0.587, recall_score=0.598, total= 2.1min\n",
      "[CV] classifier__learning_rate=0.1, classifier__n_estimators=75, pca__n_components=25 \n",
      "[CV]  classifier__learning_rate=0.1, classifier__n_estimators=75, pca__n_components=25, f1_score=0.582, precision_score=0.591, recall_score=0.573, total= 1.9min\n",
      "[CV] classifier__learning_rate=0.1, classifier__n_estimators=75, pca__n_components=50 \n",
      "[CV]  classifier__learning_rate=0.1, classifier__n_estimators=75, pca__n_components=50, f1_score=0.631, precision_score=0.600, recall_score=0.666, total= 4.2min\n",
      "[CV] classifier__learning_rate=0.1, classifier__n_estimators=75, pca__n_components=50 \n",
      "[CV]  classifier__learning_rate=0.1, classifier__n_estimators=75, pca__n_components=50, f1_score=0.639, precision_score=0.599, recall_score=0.684, total= 4.3min\n",
      "[CV] classifier__learning_rate=0.1, classifier__n_estimators=75, pca__n_components=50 \n",
      "[CV]  classifier__learning_rate=0.1, classifier__n_estimators=75, pca__n_components=50, f1_score=0.635, precision_score=0.602, recall_score=0.672, total= 4.3min\n",
      "[CV] classifier__learning_rate=0.1, classifier__n_estimators=100, pca__n_components=5 \n",
      "[CV]  classifier__learning_rate=0.1, classifier__n_estimators=100, pca__n_components=5, f1_score=0.514, precision_score=0.539, recall_score=0.492, total=  32.6s\n",
      "[CV] classifier__learning_rate=0.1, classifier__n_estimators=100, pca__n_components=5 \n",
      "[CV]  classifier__learning_rate=0.1, classifier__n_estimators=100, pca__n_components=5, f1_score=0.522, precision_score=0.546, recall_score=0.500, total=  36.9s\n",
      "[CV] classifier__learning_rate=0.1, classifier__n_estimators=100, pca__n_components=5 \n",
      "[CV]  classifier__learning_rate=0.1, classifier__n_estimators=100, pca__n_components=5, f1_score=0.524, precision_score=0.547, recall_score=0.504, total=  37.4s\n",
      "[CV] classifier__learning_rate=0.1, classifier__n_estimators=100, pca__n_components=10 \n",
      "[CV]  classifier__learning_rate=0.1, classifier__n_estimators=100, pca__n_components=10, f1_score=0.536, precision_score=0.554, recall_score=0.520, total= 1.2min\n",
      "[CV] classifier__learning_rate=0.1, classifier__n_estimators=100, pca__n_components=10 \n",
      "[CV]  classifier__learning_rate=0.1, classifier__n_estimators=100, pca__n_components=10, f1_score=0.540, precision_score=0.561, recall_score=0.521, total= 1.2min\n",
      "[CV] classifier__learning_rate=0.1, classifier__n_estimators=100, pca__n_components=10 \n",
      "[CV]  classifier__learning_rate=0.1, classifier__n_estimators=100, pca__n_components=10, f1_score=0.536, precision_score=0.561, recall_score=0.514, total= 1.2min\n",
      "[CV] classifier__learning_rate=0.1, classifier__n_estimators=100, pca__n_components=25 \n",
      "[CV]  classifier__learning_rate=0.1, classifier__n_estimators=100, pca__n_components=25, f1_score=0.583, precision_score=0.591, recall_score=0.576, total= 2.9min\n",
      "[CV] classifier__learning_rate=0.1, classifier__n_estimators=100, pca__n_components=25 \n",
      "[CV]  classifier__learning_rate=0.1, classifier__n_estimators=100, pca__n_components=25, f1_score=0.595, precision_score=0.590, recall_score=0.601, total= 2.9min\n",
      "[CV] classifier__learning_rate=0.1, classifier__n_estimators=100, pca__n_components=25 \n",
      "[CV]  classifier__learning_rate=0.1, classifier__n_estimators=100, pca__n_components=25, f1_score=0.586, precision_score=0.593, recall_score=0.579, total= 2.9min\n",
      "[CV] classifier__learning_rate=0.1, classifier__n_estimators=100, pca__n_components=50 \n",
      "[CV]  classifier__learning_rate=0.1, classifier__n_estimators=100, pca__n_components=50, f1_score=0.633, precision_score=0.603, recall_score=0.667, total= 5.8min\n",
      "[CV] classifier__learning_rate=0.1, classifier__n_estimators=100, pca__n_components=50 \n"
     ]
    },
    {
     "name": "stdout",
     "output_type": "stream",
     "text": [
      "[CV]  classifier__learning_rate=0.1, classifier__n_estimators=100, pca__n_components=50, f1_score=0.639, precision_score=0.601, recall_score=0.683, total= 5.9min\n",
      "[CV] classifier__learning_rate=0.1, classifier__n_estimators=100, pca__n_components=50 \n",
      "[CV]  classifier__learning_rate=0.1, classifier__n_estimators=100, pca__n_components=50, f1_score=0.636, precision_score=0.605, recall_score=0.671, total= 5.9min\n",
      "[CV] classifier__learning_rate=0.01, classifier__n_estimators=50, pca__n_components=5 \n",
      "[CV]  classifier__learning_rate=0.01, classifier__n_estimators=50, pca__n_components=5, f1_score=0.502, precision_score=0.530, recall_score=0.476, total=  17.2s\n",
      "[CV] classifier__learning_rate=0.01, classifier__n_estimators=50, pca__n_components=5 \n",
      "[CV]  classifier__learning_rate=0.01, classifier__n_estimators=50, pca__n_components=5, f1_score=0.497, precision_score=0.528, recall_score=0.469, total=  17.1s\n",
      "[CV] classifier__learning_rate=0.01, classifier__n_estimators=50, pca__n_components=5 \n",
      "[CV]  classifier__learning_rate=0.01, classifier__n_estimators=50, pca__n_components=5, f1_score=0.532, precision_score=0.529, recall_score=0.535, total=  16.1s\n",
      "[CV] classifier__learning_rate=0.01, classifier__n_estimators=50, pca__n_components=10 \n",
      "[CV]  classifier__learning_rate=0.01, classifier__n_estimators=50, pca__n_components=10, f1_score=0.493, precision_score=0.543, recall_score=0.451, total=  34.9s\n",
      "[CV] classifier__learning_rate=0.01, classifier__n_estimators=50, pca__n_components=10 \n",
      "[CV]  classifier__learning_rate=0.01, classifier__n_estimators=50, pca__n_components=10, f1_score=0.474, precision_score=0.547, recall_score=0.418, total=  31.2s\n",
      "[CV] classifier__learning_rate=0.01, classifier__n_estimators=50, pca__n_components=10 \n",
      "[CV]  classifier__learning_rate=0.01, classifier__n_estimators=50, pca__n_components=10, f1_score=0.545, precision_score=0.541, recall_score=0.550, total=  31.2s\n",
      "[CV] classifier__learning_rate=0.01, classifier__n_estimators=50, pca__n_components=25 \n",
      "[CV]  classifier__learning_rate=0.01, classifier__n_estimators=50, pca__n_components=25, f1_score=0.534, precision_score=0.571, recall_score=0.502, total= 1.3min\n",
      "[CV] classifier__learning_rate=0.01, classifier__n_estimators=50, pca__n_components=25 \n",
      "[CV]  classifier__learning_rate=0.01, classifier__n_estimators=50, pca__n_components=25, f1_score=0.577, precision_score=0.560, recall_score=0.595, total= 1.4min\n",
      "[CV] classifier__learning_rate=0.01, classifier__n_estimators=50, pca__n_components=25 \n",
      "[CV]  classifier__learning_rate=0.01, classifier__n_estimators=50, pca__n_components=25, f1_score=0.558, precision_score=0.566, recall_score=0.549, total= 1.4min\n",
      "[CV] classifier__learning_rate=0.01, classifier__n_estimators=50, pca__n_components=50 \n",
      "[CV]  classifier__learning_rate=0.01, classifier__n_estimators=50, pca__n_components=50, f1_score=0.648, precision_score=0.570, recall_score=0.752, total= 2.9min\n",
      "[CV] classifier__learning_rate=0.01, classifier__n_estimators=50, pca__n_components=50 \n",
      "[CV]  classifier__learning_rate=0.01, classifier__n_estimators=50, pca__n_components=50, f1_score=0.666, precision_score=0.555, recall_score=0.832, total= 2.9min\n",
      "[CV] classifier__learning_rate=0.01, classifier__n_estimators=50, pca__n_components=50 \n",
      "[CV]  classifier__learning_rate=0.01, classifier__n_estimators=50, pca__n_components=50, f1_score=0.651, precision_score=0.571, recall_score=0.758, total= 2.9min\n",
      "[CV] classifier__learning_rate=0.01, classifier__n_estimators=75, pca__n_components=5 \n",
      "[CV]  classifier__learning_rate=0.01, classifier__n_estimators=75, pca__n_components=5, f1_score=0.506, precision_score=0.531, recall_score=0.484, total=  27.1s\n",
      "[CV] classifier__learning_rate=0.01, classifier__n_estimators=75, pca__n_components=5 \n",
      "[CV]  classifier__learning_rate=0.01, classifier__n_estimators=75, pca__n_components=5, f1_score=0.497, precision_score=0.529, recall_score=0.469, total=  27.2s\n",
      "[CV] classifier__learning_rate=0.01, classifier__n_estimators=75, pca__n_components=5 \n",
      "[CV]  classifier__learning_rate=0.01, classifier__n_estimators=75, pca__n_components=5, f1_score=0.512, precision_score=0.532, recall_score=0.494, total=  24.1s\n",
      "[CV] classifier__learning_rate=0.01, classifier__n_estimators=75, pca__n_components=10 \n",
      "[CV]  classifier__learning_rate=0.01, classifier__n_estimators=75, pca__n_components=10, f1_score=0.515, precision_score=0.548, recall_score=0.486, total=  50.6s\n",
      "[CV] classifier__learning_rate=0.01, classifier__n_estimators=75, pca__n_components=10 \n",
      "[CV]  classifier__learning_rate=0.01, classifier__n_estimators=75, pca__n_components=10, f1_score=0.492, precision_score=0.549, recall_score=0.446, total=  47.6s\n",
      "[CV] classifier__learning_rate=0.01, classifier__n_estimators=75, pca__n_components=10 \n",
      "[CV]  classifier__learning_rate=0.01, classifier__n_estimators=75, pca__n_components=10, f1_score=0.535, precision_score=0.543, recall_score=0.527, total=  52.7s\n",
      "[CV] classifier__learning_rate=0.01, classifier__n_estimators=75, pca__n_components=25 \n",
      "[CV]  classifier__learning_rate=0.01, classifier__n_estimators=75, pca__n_components=25, f1_score=0.537, precision_score=0.576, recall_score=0.503, total= 2.1min\n",
      "[CV] classifier__learning_rate=0.01, classifier__n_estimators=75, pca__n_components=25 \n",
      "[CV]  classifier__learning_rate=0.01, classifier__n_estimators=75, pca__n_components=25, f1_score=0.579, precision_score=0.561, recall_score=0.598, total= 2.1min\n",
      "[CV] classifier__learning_rate=0.01, classifier__n_estimators=75, pca__n_components=25 \n",
      "[CV]  classifier__learning_rate=0.01, classifier__n_estimators=75, pca__n_components=25, f1_score=0.539, precision_score=0.581, recall_score=0.502, total= 2.1min\n",
      "[CV] classifier__learning_rate=0.01, classifier__n_estimators=75, pca__n_components=50 \n",
      "[CV]  classifier__learning_rate=0.01, classifier__n_estimators=75, pca__n_components=50, f1_score=0.641, precision_score=0.576, recall_score=0.723, total= 4.3min\n",
      "[CV] classifier__learning_rate=0.01, classifier__n_estimators=75, pca__n_components=50 \n",
      "[CV]  classifier__learning_rate=0.01, classifier__n_estimators=75, pca__n_components=50, f1_score=0.656, precision_score=0.565, recall_score=0.781, total= 4.2min\n",
      "[CV] classifier__learning_rate=0.01, classifier__n_estimators=75, pca__n_components=50 \n",
      "[CV]  classifier__learning_rate=0.01, classifier__n_estimators=75, pca__n_components=50, f1_score=0.652, precision_score=0.573, recall_score=0.754, total= 4.3min\n",
      "[CV] classifier__learning_rate=0.01, classifier__n_estimators=100, pca__n_components=5 \n",
      "[CV]  classifier__learning_rate=0.01, classifier__n_estimators=100, pca__n_components=5, f1_score=0.507, precision_score=0.531, recall_score=0.485, total=  31.7s\n",
      "[CV] classifier__learning_rate=0.01, classifier__n_estimators=100, pca__n_components=5 \n",
      "[CV]  classifier__learning_rate=0.01, classifier__n_estimators=100, pca__n_components=5, f1_score=0.505, precision_score=0.530, recall_score=0.482, total=  31.1s\n",
      "[CV] classifier__learning_rate=0.01, classifier__n_estimators=100, pca__n_components=5 \n",
      "[CV]  classifier__learning_rate=0.01, classifier__n_estimators=100, pca__n_components=5, f1_score=0.513, precision_score=0.533, recall_score=0.495, total=  36.0s\n",
      "[CV] classifier__learning_rate=0.01, classifier__n_estimators=100, pca__n_components=10 \n",
      "[CV]  classifier__learning_rate=0.01, classifier__n_estimators=100, pca__n_components=10, f1_score=0.519, precision_score=0.547, recall_score=0.494, total= 1.1min\n",
      "[CV] classifier__learning_rate=0.01, classifier__n_estimators=100, pca__n_components=10 \n",
      "[CV]  classifier__learning_rate=0.01, classifier__n_estimators=100, pca__n_components=10, f1_score=0.498, precision_score=0.550, recall_score=0.455, total= 1.1min\n",
      "[CV] classifier__learning_rate=0.01, classifier__n_estimators=100, pca__n_components=10 \n",
      "[CV]  classifier__learning_rate=0.01, classifier__n_estimators=100, pca__n_components=10, f1_score=0.520, precision_score=0.547, recall_score=0.495, total= 1.1min\n",
      "[CV] classifier__learning_rate=0.01, classifier__n_estimators=100, pca__n_components=25 \n",
      "[CV]  classifier__learning_rate=0.01, classifier__n_estimators=100, pca__n_components=25, f1_score=0.543, precision_score=0.579, recall_score=0.511, total= 2.7min\n",
      "[CV] classifier__learning_rate=0.01, classifier__n_estimators=100, pca__n_components=25 \n"
     ]
    },
    {
     "name": "stdout",
     "output_type": "stream",
     "text": [
      "[CV]  classifier__learning_rate=0.01, classifier__n_estimators=100, pca__n_components=25, f1_score=0.579, precision_score=0.562, recall_score=0.596, total= 2.7min\n",
      "[CV] classifier__learning_rate=0.01, classifier__n_estimators=100, pca__n_components=25 \n",
      "[CV]  classifier__learning_rate=0.01, classifier__n_estimators=100, pca__n_components=25, f1_score=0.538, precision_score=0.583, recall_score=0.500, total= 2.7min\n",
      "[CV] classifier__learning_rate=0.01, classifier__n_estimators=100, pca__n_components=50 \n",
      "[CV]  classifier__learning_rate=0.01, classifier__n_estimators=100, pca__n_components=50, f1_score=0.637, precision_score=0.578, recall_score=0.711, total= 5.6min\n",
      "[CV] classifier__learning_rate=0.01, classifier__n_estimators=100, pca__n_components=50 \n",
      "[CV]  classifier__learning_rate=0.01, classifier__n_estimators=100, pca__n_components=50, f1_score=0.652, precision_score=0.571, recall_score=0.761, total= 5.6min\n",
      "[CV] classifier__learning_rate=0.01, classifier__n_estimators=100, pca__n_components=50 \n",
      "[CV]  classifier__learning_rate=0.01, classifier__n_estimators=100, pca__n_components=50, f1_score=0.646, precision_score=0.577, recall_score=0.736, total= 5.6min\n"
     ]
    },
    {
     "name": "stderr",
     "output_type": "stream",
     "text": [
      "[Parallel(n_jobs=1)]: Done 108 out of 108 | elapsed: 206.7min finished\n"
     ]
    },
    {
     "data": {
      "text/plain": [
       "GridSearchCV(cv=3,\n",
       "             estimator=Pipeline(steps=[('scaler', MinMaxScaler()),\n",
       "                                       ('pca', PCA(random_state=24)),\n",
       "                                       ('classifier',\n",
       "                                        GradientBoostingClassifier(random_state=24))]),\n",
       "             param_grid={'classifier__learning_rate': [1, 0.1, 0.01],\n",
       "                         'classifier__n_estimators': [50, 75, 100],\n",
       "                         'pca__n_components': [5, 10, 25, 50]},\n",
       "             refit='precision_score',\n",
       "             scoring={'f1_score': make_scorer(f1_score),\n",
       "                      'precision_score': make_scorer(precision_score),\n",
       "                      'recall_score': make_scorer(recall_score)},\n",
       "             verbose=3)"
      ]
     },
     "execution_count": 33,
     "metadata": {},
     "output_type": "execute_result"
    }
   ],
   "source": [
    "# Fit the GridSearchCV object\n",
    "gbt_gridsearch.fit(X_train_res, y_train_res)"
   ]
  },
  {
   "cell_type": "markdown",
   "metadata": {},
   "source": [
    "Now that the grid search has fully run, I can use the `best_params_` and `best_score_` attributes to find just that - the best parameters found through my grid search and the best cross-validated score of the best estimator. I see that my grid search found 50 components for the `PCA` function; 75 estimators and a learning rate of 1 for the GradientBoosting classifier were best, and refit the model based on these hyperparameters. The best score (0.608) is pretty low, and tells me this model is not performing well. I plot the confusion matrix to get a better look into how well this model does."
   ]
  },
  {
   "cell_type": "code",
   "execution_count": 34,
   "metadata": {},
   "outputs": [
    {
     "name": "stdout",
     "output_type": "stream",
     "text": [
      "Best params for GradientBoostingClassifier refit for precision_score:\n",
      "{'classifier__learning_rate': 1, 'classifier__n_estimators': 75, 'pca__n_components': 50}\n",
      "\n",
      "\n",
      "Best score for GradientBoostingClassifier refit for precision_score:\n",
      "0.60797649319375\n"
     ]
    }
   ],
   "source": [
    "# Print the 'best' parameters and the best score for the model\n",
    "print('Best params for GradientBoostingClassifier refit for {}:'.format('precision_score'))\n",
    "print(gbt_gridsearch.best_params_)\n",
    "print('\\n')\n",
    "print('Best score for GradientBoostingClassifier refit for {}:'.format('precision_score'))\n",
    "print(gbt_gridsearch.best_score_)"
   ]
  },
  {
   "cell_type": "code",
   "execution_count": 35,
   "metadata": {
    "scrolled": false
   },
   "outputs": [
    {
     "data": {
      "image/png": "[encoded data removed]",
      "text/plain": [
       "<Figure size 720x576 with 1 Axes>"
      ]
     },
     "metadata": {},
     "output_type": "display_data"
    }
   ],
   "source": [
    "# Plot the confusion matrix\n",
    "y_hat_val = gbt_gridsearch.predict(X_val)\n",
    "plt.figure(figsize=(10, 8))\n",
    "sns.heatmap(confusion_matrix(y_val, y_hat_val), annot=True,\n",
    "           fmt='.1f', xticklabels=['Not Delayed', 'Delayed'],\n",
    "           yticklabels=['Not Delayed', 'Delayed'], cmap='OrRd', cbar=False)\n",
    "plt.xlabel(\"Predicted Labels\")\n",
    "plt.ylabel(\"True Labels\")\n",
    "plt.title('Confusion Matrix of the Optimized GradientBoosting Classifier On the Validation Data')\n",
    "plt.show();"
   ]
  },
  {
   "cell_type": "markdown",
   "metadata": {},
   "source": [
    "From initial observation, I can see this model needs more training, especially if my hope is to reduce the false positive count and improve my precision score. The false positive count is 23,792, which is pretty high even if it's just my baseline. I print the classification report below to get a full look into the grid search's metric scores, including recall and f1."
   ]
  },
  {
   "cell_type": "code",
   "execution_count": 36,
   "metadata": {},
   "outputs": [
    {
     "name": "stdout",
     "output_type": "stream",
     "text": [
      "              precision    recall  f1-score   support\n",
      "\n",
      "           0       0.87      0.59      0.71     58461\n",
      "           1       0.28      0.64      0.39     14407\n",
      "\n",
      "    accuracy                           0.60     72868\n",
      "   macro avg       0.57      0.62      0.55     72868\n",
      "weighted avg       0.75      0.60      0.64     72868\n",
      "\n"
     ]
    }
   ],
   "source": [
    "# Print the classification report\n",
    "print(classification_report(y_val, y_hat_val))"
   ]
  },
  {
   "cell_type": "markdown",
   "metadata": {},
   "source": [
    "I'll use the visual and scores above as my baseline to compare against the next step of my modeling phase: deep learning."
   ]
  },
  {
   "cell_type": "markdown",
   "metadata": {},
   "source": [
    "### Deep Learning:\n",
    "\n",
    "Before I begin creating neural networks to train my data on, it's important I normalize the input datasets so that they are all on the same scale; otherwise, the models will generate flawed results. I will use `MinMaxScaler` once again, and transform all three input datasets, but only fitting on the training data."
   ]
  },
  {
   "cell_type": "code",
   "execution_count": 39,
   "metadata": {},
   "outputs": [
    {
     "data": {
      "text/plain": [
       "(173382, 139)"
      ]
     },
     "execution_count": 39,
     "metadata": {},
     "output_type": "execute_result"
    }
   ],
   "source": [
    "# Use the MinMaxScaler function to scale the data\n",
    "cols = X_train_res.columns\n",
    "\n",
    "mmscaler = MinMaxScaler()\n",
    "X_train_scaled = mmscaler.fit_transform(X_train_res)\n",
    "X_val_scaled = mmscaler.transform(X_val)\n",
    "X_test_scaled = mmscaler.transform(X_test)\n",
    "\n",
    "X_train = pd.DataFrame(X_train_scaled, columns=cols)\n",
    "X_val = pd.DataFrame(X_val_scaled, columns=cols)\n",
    "X_test = pd.DataFrame(X_test_scaled, columns=cols)\n",
    "\n",
    "# Check & reconfirm the training data's shape\n",
    "X_train.shape"
   ]
  },
  {
   "cell_type": "markdown",
   "metadata": {},
   "source": [
    "I see from the last line of code that the shape of the training data has remained intact, and that my data is ready to be modeled. To begin, I build a small baseline neural network - specifically, with 2 hidden layers and 1 output layer). I also set some regularization to help counter any potential overfitting. \n",
    "\n",
    "Seeing as how this is a classification problem, it's important I select loss and optimizer functions that work well in binary classification. From my knowledge, binary cross-entropy and Adam optimization work best in these situations, so I pass them along with a metrics parameter in the compiler function. The summary below shows the number of parameters that exist (and will be trained) in the network, which in this case is over 10,000 parameters!"
   ]
  },
  {
   "cell_type": "code",
   "execution_count": 40,
   "metadata": {},
   "outputs": [
    {
     "name": "stdout",
     "output_type": "stream",
     "text": [
      "Model: \"sequential\"\n",
      "_________________________________________________________________\n",
      "Layer (type)                 Output Shape              Param #   \n",
      "=================================================================\n",
      "dense (Dense)                (None, 64)                8960      \n",
      "_________________________________________________________________\n",
      "dense_1 (Dense)              (None, 16)                1040      \n",
      "_________________________________________________________________\n",
      "dense_2 (Dense)              (None, 1)                 17        \n",
      "=================================================================\n",
      "Total params: 10,017\n",
      "Trainable params: 10,017\n",
      "Non-trainable params: 0\n",
      "_________________________________________________________________\n"
     ]
    }
   ],
   "source": [
    "# Create a small-layered baseline neural network\n",
    "neural_network = Sequential()\n",
    "neural_network.add(Dense(64, activation='relu', \n",
    "                            kernel_regularizer=regularizers.l2(0.01), input_shape=(139, )))\n",
    "neural_network.add(Dense(16, activation='relu'))\n",
    "neural_network.add(Dense(1, activation='sigmoid'))\n",
    "\n",
    "# Compile the baseline model\n",
    "neural_network.compile(loss='binary_crossentropy', optimizer='adam', metrics=['accuracy'])\n",
    "\n",
    "# List a summary of the baseline model\n",
    "neural_network.summary()"
   ]
  },
  {
   "cell_type": "markdown",
   "metadata": {},
   "source": [
    "I fit the baseline network to the training data, and run it for 32 epochs alongside the validation data."
   ]
  },
  {
   "cell_type": "code",
   "execution_count": 41,
   "metadata": {
    "scrolled": true
   },
   "outputs": [
    {
     "name": "stdout",
     "output_type": "stream",
     "text": [
      "Epoch 1/32\n",
      "678/678 [==============================] - 3s 4ms/step - loss: 0.7355 - accuracy: 0.6001 - val_loss: 0.6686 - val_accuracy: 0.5720\n",
      "Epoch 2/32\n",
      "678/678 [==============================] - 2s 4ms/step - loss: 0.6576 - accuracy: 0.6146 - val_loss: 0.6546 - val_accuracy: 0.5929\n",
      "Epoch 3/32\n",
      "678/678 [==============================] - 3s 4ms/step - loss: 0.6550 - accuracy: 0.6175 - val_loss: 0.6319 - val_accuracy: 0.6352\n",
      "Epoch 4/32\n",
      "678/678 [==============================] - 3s 4ms/step - loss: 0.6533 - accuracy: 0.6213 - val_loss: 0.6702 - val_accuracy: 0.5799\n",
      "Epoch 5/32\n",
      "678/678 [==============================] - 3s 4ms/step - loss: 0.6518 - accuracy: 0.6237 - val_loss: 0.6625 - val_accuracy: 0.5889\n",
      "Epoch 6/32\n",
      "678/678 [==============================] - 2s 3ms/step - loss: 0.6505 - accuracy: 0.6259 - val_loss: 0.6425 - val_accuracy: 0.6241\n",
      "Epoch 7/32\n",
      "678/678 [==============================] - 2s 3ms/step - loss: 0.6493 - accuracy: 0.6291 - val_loss: 0.6688 - val_accuracy: 0.5837\n",
      "Epoch 8/32\n",
      "678/678 [==============================] - 1s 2ms/step - loss: 0.6486 - accuracy: 0.6282 - val_loss: 0.6294 - val_accuracy: 0.6457\n",
      "Epoch 9/32\n",
      "678/678 [==============================] - 2s 3ms/step - loss: 0.6480 - accuracy: 0.6301 - val_loss: 0.6754 - val_accuracy: 0.5780\n",
      "Epoch 10/32\n",
      "678/678 [==============================] - 3s 4ms/step - loss: 0.6473 - accuracy: 0.6299 - val_loss: 0.6529 - val_accuracy: 0.6094\n",
      "Epoch 11/32\n",
      "678/678 [==============================] - 3s 4ms/step - loss: 0.6471 - accuracy: 0.6315 - val_loss: 0.6539 - val_accuracy: 0.6130\n",
      "Epoch 12/32\n",
      "678/678 [==============================] - 2s 4ms/step - loss: 0.6467 - accuracy: 0.6314 - val_loss: 0.6310 - val_accuracy: 0.6410\n",
      "Epoch 13/32\n",
      "678/678 [==============================] - 3s 4ms/step - loss: 0.6468 - accuracy: 0.6318 - val_loss: 0.6269 - val_accuracy: 0.6485\n",
      "Epoch 14/32\n",
      "678/678 [==============================] - 3s 4ms/step - loss: 0.6463 - accuracy: 0.6324 - val_loss: 0.6360 - val_accuracy: 0.6337\n",
      "Epoch 15/32\n",
      "678/678 [==============================] - 3s 4ms/step - loss: 0.6461 - accuracy: 0.6316 - val_loss: 0.6521 - val_accuracy: 0.6096\n",
      "Epoch 16/32\n",
      "678/678 [==============================] - 2s 4ms/step - loss: 0.6457 - accuracy: 0.6338 - val_loss: 0.6316 - val_accuracy: 0.6331\n",
      "Epoch 17/32\n",
      "678/678 [==============================] - 2s 4ms/step - loss: 0.6459 - accuracy: 0.6325 - val_loss: 0.6422 - val_accuracy: 0.6281\n",
      "Epoch 18/32\n",
      "678/678 [==============================] - 3s 4ms/step - loss: 0.6455 - accuracy: 0.6323 - val_loss: 0.6432 - val_accuracy: 0.6267\n",
      "Epoch 19/32\n",
      "678/678 [==============================] - 3s 4ms/step - loss: 0.6457 - accuracy: 0.6322 - val_loss: 0.6746 - val_accuracy: 0.5885\n",
      "Epoch 20/32\n",
      "678/678 [==============================] - 3s 4ms/step - loss: 0.6454 - accuracy: 0.6330 - val_loss: 0.6421 - val_accuracy: 0.6320\n",
      "Epoch 21/32\n",
      "678/678 [==============================] - 2s 3ms/step - loss: 0.6456 - accuracy: 0.6326 - val_loss: 0.6275 - val_accuracy: 0.6459\n",
      "Epoch 22/32\n",
      "678/678 [==============================] - 2s 3ms/step - loss: 0.6452 - accuracy: 0.6333 - val_loss: 0.6654 - val_accuracy: 0.5943\n",
      "Epoch 23/32\n",
      "678/678 [==============================] - 2s 3ms/step - loss: 0.6452 - accuracy: 0.6330 - val_loss: 0.6093 - val_accuracy: 0.6771\n",
      "Epoch 24/32\n",
      "678/678 [==============================] - 2s 2ms/step - loss: 0.6449 - accuracy: 0.6336 - val_loss: 0.6971 - val_accuracy: 0.5621\n",
      "Epoch 25/32\n",
      "678/678 [==============================] - 2s 3ms/step - loss: 0.6451 - accuracy: 0.6333 - val_loss: 0.6712 - val_accuracy: 0.6001\n",
      "Epoch 26/32\n",
      "678/678 [==============================] - 2s 3ms/step - loss: 0.6450 - accuracy: 0.6343 - val_loss: 0.6661 - val_accuracy: 0.5996\n",
      "Epoch 27/32\n",
      "678/678 [==============================] - 1s 2ms/step - loss: 0.6450 - accuracy: 0.6340 - val_loss: 0.6476 - val_accuracy: 0.6224\n",
      "Epoch 28/32\n",
      "678/678 [==============================] - 1s 2ms/step - loss: 0.6451 - accuracy: 0.6340 - val_loss: 0.6323 - val_accuracy: 0.6391\n",
      "Epoch 29/32\n",
      "678/678 [==============================] - 2s 2ms/step - loss: 0.6449 - accuracy: 0.6335 - val_loss: 0.6748 - val_accuracy: 0.5826\n",
      "Epoch 30/32\n",
      "678/678 [==============================] - 2s 3ms/step - loss: 0.6450 - accuracy: 0.6320 - val_loss: 0.6428 - val_accuracy: 0.6293\n",
      "Epoch 31/32\n",
      "678/678 [==============================] - 2s 3ms/step - loss: 0.6448 - accuracy: 0.6335 - val_loss: 0.6492 - val_accuracy: 0.6168\n",
      "Epoch 32/32\n",
      "678/678 [==============================] - 3s 4ms/step - loss: 0.6449 - accuracy: 0.6332 - val_loss: 0.6834 - val_accuracy: 0.5849\n"
     ]
    }
   ],
   "source": [
    "# Fit the baseline model\n",
    "baseline = neural_network.fit(X_train, y_train_res, epochs=32, batch_size=256,\n",
    "                                      validation_data=(X_val, y_val))"
   ]
  },
  {
   "cell_type": "markdown",
   "metadata": {},
   "source": [
    "Once all the epochs have been run through, I evaluate the network on both the training and validation data to get a look into the baseline networks accuracy and loss. Then I generate predictions and map the values to plot a confusion matrix, and get a further look into how the model performed. "
   ]
  },
  {
   "cell_type": "code",
   "execution_count": 42,
   "metadata": {},
   "outputs": [
    {
     "name": "stdout",
     "output_type": "stream",
     "text": [
      "5419/5419 [==============================] - 6s 1ms/step - loss: 7.9649 - accuracy: 0.5000\n",
      "Training data results:\n",
      "[7.964900970458984, 0.5]\n",
      "\n",
      "\n",
      "2278/2278 [==============================] - 2s 893us/step - loss: 0.6834 - accuracy: 0.5849\n",
      "Validation data results:\n",
      "[0.6833565831184387, 0.5848795175552368]\n"
     ]
    },
    {
     "data": {
      "image/png": "[encoded data removed]",
      "text/plain": [
       "<Figure size 720x576 with 1 Axes>"
      ]
     },
     "metadata": {},
     "output_type": "display_data"
    }
   ],
   "source": [
    "# Evaluate the loss and accuracy scores for the training and validation datasets\n",
    "print(f'Training data results:\\n{neural_network.evaluate(X_train_res, y_train_res)}')\n",
    "print('\\n')\n",
    "print(f'Validation data results:\\n{neural_network.evaluate(X_val, y_val)}')\n",
    "\n",
    "# Generate predictions and \"round\" the values\n",
    "baseline_preds = neural_network.predict(X_val)\n",
    "baseline_preds[baseline_preds > 0.5] = 1\n",
    "baseline_preds[baseline_preds < 0.5] = 0\n",
    "\n",
    "# Plot a confusion matrix of the validation data\n",
    "plt.figure(figsize=(10, 8))\n",
    "sns.heatmap(confusion_matrix(y_val, baseline_preds), annot=True,\n",
    "           fmt='.1f', xticklabels=['Not Delayed', 'Delayed'],\n",
    "           yticklabels=['Not Delayed', 'Delayed'], cmap='OrRd', cbar=False)\n",
    "plt.xlabel(\"Predicted Labels\")\n",
    "plt.ylabel(\"True Labels\")\n",
    "plt.show()"
   ]
  },
  {
   "cell_type": "markdown",
   "metadata": {},
   "source": [
    "I see above that both datasets have accuracies slightly greater than, or equal to, 50%. Although this is only a baseline model, that is still very poor performance. Fortunately, it doesn't look like there is any overfitting occuring on the training data, which could be due to the L2 regularizer I applied. The confusion matrix above further suggests the model performs poorly. When compared to the tuned GradientBoosting classifier, the model is worse considering the false positive count increased from 23,792 flights to 26,025 flights. That is unacceptable and goes against my objective. \n",
    "\n",
    "Below is the classification report for the baseline network to see how the model performed based on the three metrics I\"ve been tracking thus far (precision, recall and f1 score). However, for simplicity's sake, I also create a function further below that will take in the expected and predicted labels, and generate the three scores."
   ]
  },
  {
   "cell_type": "code",
   "execution_count": 43,
   "metadata": {},
   "outputs": [
    {
     "name": "stdout",
     "output_type": "stream",
     "text": [
      "              precision    recall  f1-score   support\n",
      "\n",
      "           0       0.88      0.55      0.68     58461\n",
      "           1       0.28      0.71      0.40     14407\n",
      "\n",
      "    accuracy                           0.58     72868\n",
      "   macro avg       0.58      0.63      0.54     72868\n",
      "weighted avg       0.77      0.58      0.63     72868\n",
      "\n"
     ]
    }
   ],
   "source": [
    "# Print the classification report\n",
    "print(classification_report(y_val, baseline_preds))"
   ]
  },
  {
   "cell_type": "code",
   "execution_count": 44,
   "metadata": {},
   "outputs": [
    {
     "name": "stdout",
     "output_type": "stream",
     "text": [
      "Precision score: 28.12 %\n",
      "Recall score: 70.68 %\n",
      "F1 score: 40.24 %\n"
     ]
    }
   ],
   "source": [
    "# Create a function that will calculate the three relevant scores to this analysis\n",
    "def model_metrics(a, b):\n",
    "    \n",
    "    precision = precision_score(a, b)\n",
    "    recall = recall_score(a, b)\n",
    "    f1 = f1_score(a, b)\n",
    "\n",
    "    print('Precision score:', round(precision * 100, 2),'%')\n",
    "    print('Recall score:', round(recall * 100, 2),'%')\n",
    "    print('F1 score:', round(f1 * 100, 2),'%')\n",
    "\n",
    "# Run the function with both labels passed in\n",
    "model_metrics(y_val, baseline_preds)"
   ]
  },
  {
   "cell_type": "markdown",
   "metadata": {},
   "source": [
    "It seems the recall score is the only one to increase significantly, when compared to the GradientBoosting classifier. This means the models sensitivity, or ability to predict positive results, has increased. Despite this improvement, I am looking to also reduce the false positive count, which will require further modeling.\n",
    "\n",
    "I will create another neural network; however, it will have 3 hidden layers, instead of two (and the units will be adjusted, accordingly). I apply the same compiler parameters, and print the summary again to see how many more parameters I am training. This denser network will train 11,313 total parameters."
   ]
  },
  {
   "cell_type": "code",
   "execution_count": 45,
   "metadata": {},
   "outputs": [
    {
     "name": "stdout",
     "output_type": "stream",
     "text": [
      "Model: \"sequential_1\"\n",
      "_________________________________________________________________\n",
      "Layer (type)                 Output Shape              Param #   \n",
      "=================================================================\n",
      "dense_3 (Dense)              (None, 64)                8960      \n",
      "_________________________________________________________________\n",
      "dense_4 (Dense)              (None, 32)                2080      \n",
      "_________________________________________________________________\n",
      "dense_5 (Dense)              (None, 8)                 264       \n",
      "_________________________________________________________________\n",
      "dense_6 (Dense)              (None, 1)                 9         \n",
      "=================================================================\n",
      "Total params: 11,313\n",
      "Trainable params: 11,313\n",
      "Non-trainable params: 0\n",
      "_________________________________________________________________\n"
     ]
    }
   ],
   "source": [
    "# Create another, more dense neural network\n",
    "neural_network2 = Sequential()\n",
    "neural_network2.add(Dense(64, activation='relu', \n",
    "                            kernel_regularizer=regularizers.l2(0.01), input_shape=(139, )))\n",
    "neural_network2.add(Dense(32, activation='relu'))\n",
    "neural_network2.add(Dense(8, activation='relu'))\n",
    "neural_network2.add(Dense(1, activation='sigmoid'))\n",
    "\n",
    "# Compile the baseline model\n",
    "neural_network2.compile(loss='binary_crossentropy', optimizer='adam', metrics=['accuracy'])\n",
    "\n",
    "# List a summary of the baseline model\n",
    "neural_network2.summary()"
   ]
  },
  {
   "cell_type": "markdown",
   "metadata": {},
   "source": [
    "I fit the model this time to **50 epochs** in order to increase my training performance, and in the hope that my precision will increase as well. I will retain the batch size and evaluate on the validation data again."
   ]
  },
  {
   "cell_type": "code",
   "execution_count": 46,
   "metadata": {},
   "outputs": [
    {
     "name": "stdout",
     "output_type": "stream",
     "text": [
      "Epoch 1/50\n",
      "678/678 [==============================] - 3s 5ms/step - loss: 0.7333 - accuracy: 0.6068 - val_loss: 0.6439 - val_accuracy: 0.6143\n",
      "Epoch 2/50\n",
      "678/678 [==============================] - 3s 4ms/step - loss: 0.6558 - accuracy: 0.6169 - val_loss: 0.6210 - val_accuracy: 0.6474\n",
      "Epoch 3/50\n",
      "678/678 [==============================] - 3s 4ms/step - loss: 0.6530 - accuracy: 0.6224 - val_loss: 0.6506 - val_accuracy: 0.6137\n",
      "Epoch 4/50\n",
      "678/678 [==============================] - 3s 4ms/step - loss: 0.6509 - accuracy: 0.6252 - val_loss: 0.6435 - val_accuracy: 0.6292\n",
      "Epoch 5/50\n",
      "678/678 [==============================] - 3s 4ms/step - loss: 0.6499 - accuracy: 0.6265 - val_loss: 0.6441 - val_accuracy: 0.6280\n",
      "Epoch 6/50\n",
      "678/678 [==============================] - 1s 2ms/step - loss: 0.6485 - accuracy: 0.6292 - val_loss: 0.6421 - val_accuracy: 0.6279\n",
      "Epoch 7/50\n",
      "678/678 [==============================] - 1s 2ms/step - loss: 0.6474 - accuracy: 0.6305 - val_loss: 0.6343 - val_accuracy: 0.6266\n",
      "Epoch 8/50\n",
      "678/678 [==============================] - 1s 2ms/step - loss: 0.6472 - accuracy: 0.6314 - val_loss: 0.6495 - val_accuracy: 0.6137\n",
      "Epoch 9/50\n",
      "678/678 [==============================] - 2s 3ms/step - loss: 0.6468 - accuracy: 0.6317 - val_loss: 0.6474 - val_accuracy: 0.6228\n",
      "Epoch 10/50\n",
      "678/678 [==============================] - 3s 4ms/step - loss: 0.6461 - accuracy: 0.6332 - val_loss: 0.6122 - val_accuracy: 0.6726\n",
      "Epoch 11/50\n",
      "678/678 [==============================] - 3s 4ms/step - loss: 0.6463 - accuracy: 0.6310 - val_loss: 0.5938 - val_accuracy: 0.6846\n",
      "Epoch 12/50\n",
      "678/678 [==============================] - 3s 4ms/step - loss: 0.6459 - accuracy: 0.6327 - val_loss: 0.6365 - val_accuracy: 0.6332\n",
      "Epoch 13/50\n",
      "678/678 [==============================] - 3s 4ms/step - loss: 0.6458 - accuracy: 0.6330 - val_loss: 0.6627 - val_accuracy: 0.6038\n",
      "Epoch 14/50\n",
      "678/678 [==============================] - 3s 4ms/step - loss: 0.6453 - accuracy: 0.6342 - val_loss: 0.6782 - val_accuracy: 0.5816\n",
      "Epoch 15/50\n",
      "678/678 [==============================] - 3s 4ms/step - loss: 0.6457 - accuracy: 0.6326 - val_loss: 0.6160 - val_accuracy: 0.6662\n",
      "Epoch 16/50\n",
      "678/678 [==============================] - 3s 4ms/step - loss: 0.6455 - accuracy: 0.6330 - val_loss: 0.6430 - val_accuracy: 0.6298\n",
      "Epoch 17/50\n",
      "678/678 [==============================] - 3s 4ms/step - loss: 0.6456 - accuracy: 0.6327 - val_loss: 0.6184 - val_accuracy: 0.6626\n",
      "Epoch 18/50\n",
      "678/678 [==============================] - 3s 4ms/step - loss: 0.6452 - accuracy: 0.6336 - val_loss: 0.6286 - val_accuracy: 0.6459\n",
      "Epoch 19/50\n",
      "678/678 [==============================] - 3s 4ms/step - loss: 0.6454 - accuracy: 0.6332 - val_loss: 0.6692 - val_accuracy: 0.5988\n",
      "Epoch 20/50\n",
      "678/678 [==============================] - 3s 4ms/step - loss: 0.6451 - accuracy: 0.6335 - val_loss: 0.6656 - val_accuracy: 0.5997\n",
      "Epoch 21/50\n",
      "678/678 [==============================] - 3s 4ms/step - loss: 0.6451 - accuracy: 0.6336 - val_loss: 0.6251 - val_accuracy: 0.6473\n",
      "Epoch 22/50\n",
      "678/678 [==============================] - 3s 4ms/step - loss: 0.6449 - accuracy: 0.6343 - val_loss: 0.6452 - val_accuracy: 0.6261\n",
      "Epoch 23/50\n",
      "678/678 [==============================] - 3s 4ms/step - loss: 0.6448 - accuracy: 0.6346 - val_loss: 0.6774 - val_accuracy: 0.5913\n",
      "Epoch 24/50\n",
      "678/678 [==============================] - 3s 4ms/step - loss: 0.6451 - accuracy: 0.6333 - val_loss: 0.6671 - val_accuracy: 0.5986\n",
      "Epoch 25/50\n",
      "678/678 [==============================] - 3s 4ms/step - loss: 0.6450 - accuracy: 0.6340 - val_loss: 0.6331 - val_accuracy: 0.6404\n",
      "Epoch 26/50\n",
      "678/678 [==============================] - 3s 4ms/step - loss: 0.6450 - accuracy: 0.6325 - val_loss: 0.6975 - val_accuracy: 0.5625\n",
      "Epoch 27/50\n",
      "678/678 [==============================] - 3s 4ms/step - loss: 0.6452 - accuracy: 0.6337 - val_loss: 0.6365 - val_accuracy: 0.6374\n",
      "Epoch 28/50\n",
      "678/678 [==============================] - 3s 4ms/step - loss: 0.6451 - accuracy: 0.6343 - val_loss: 0.6539 - val_accuracy: 0.6141\n",
      "Epoch 29/50\n",
      "678/678 [==============================] - 2s 3ms/step - loss: 0.6449 - accuracy: 0.6333 - val_loss: 0.6632 - val_accuracy: 0.5993\n",
      "Epoch 30/50\n",
      "678/678 [==============================] - 3s 4ms/step - loss: 0.6450 - accuracy: 0.6327 - val_loss: 0.6496 - val_accuracy: 0.6174\n",
      "Epoch 31/50\n",
      "678/678 [==============================] - 3s 4ms/step - loss: 0.6448 - accuracy: 0.6349 - val_loss: 0.6140 - val_accuracy: 0.6595\n",
      "Epoch 32/50\n",
      "678/678 [==============================] - 3s 4ms/step - loss: 0.6447 - accuracy: 0.6336 - val_loss: 0.6362 - val_accuracy: 0.6308\n",
      "Epoch 33/50\n",
      "678/678 [==============================] - 3s 4ms/step - loss: 0.6451 - accuracy: 0.6343 - val_loss: 0.6336 - val_accuracy: 0.6395\n",
      "Epoch 34/50\n",
      "678/678 [==============================] - 3s 4ms/step - loss: 0.6445 - accuracy: 0.6350 - val_loss: 0.6358 - val_accuracy: 0.6384\n",
      "Epoch 35/50\n",
      "678/678 [==============================] - 2s 4ms/step - loss: 0.6445 - accuracy: 0.6337 - val_loss: 0.6224 - val_accuracy: 0.6561\n",
      "Epoch 36/50\n",
      "678/678 [==============================] - 3s 4ms/step - loss: 0.6447 - accuracy: 0.6347 - val_loss: 0.6508 - val_accuracy: 0.6195\n",
      "Epoch 37/50\n",
      "678/678 [==============================] - 3s 4ms/step - loss: 0.6447 - accuracy: 0.6345 - val_loss: 0.6121 - val_accuracy: 0.6689\n",
      "Epoch 38/50\n",
      "678/678 [==============================] - 3s 4ms/step - loss: 0.6444 - accuracy: 0.6339 - val_loss: 0.6563 - val_accuracy: 0.6137\n",
      "Epoch 39/50\n",
      "678/678 [==============================] - 3s 4ms/step - loss: 0.6450 - accuracy: 0.6346 - val_loss: 0.6305 - val_accuracy: 0.6449\n",
      "Epoch 40/50\n",
      "678/678 [==============================] - 3s 4ms/step - loss: 0.6445 - accuracy: 0.6332 - val_loss: 0.6441 - val_accuracy: 0.6309\n",
      "Epoch 41/50\n",
      "678/678 [==============================] - 2s 4ms/step - loss: 0.6447 - accuracy: 0.6341 - val_loss: 0.6614 - val_accuracy: 0.6032\n",
      "Epoch 42/50\n",
      "678/678 [==============================] - 3s 4ms/step - loss: 0.6444 - accuracy: 0.6350 - val_loss: 0.6316 - val_accuracy: 0.6438\n",
      "Epoch 43/50\n",
      "678/678 [==============================] - 3s 4ms/step - loss: 0.6446 - accuracy: 0.6340 - val_loss: 0.6621 - val_accuracy: 0.6035\n",
      "Epoch 44/50\n",
      "678/678 [==============================] - 3s 4ms/step - loss: 0.6444 - accuracy: 0.6340 - val_loss: 0.6417 - val_accuracy: 0.6256\n",
      "Epoch 45/50\n",
      "678/678 [==============================] - 3s 4ms/step - loss: 0.6445 - accuracy: 0.6341 - val_loss: 0.6515 - val_accuracy: 0.6156\n",
      "Epoch 46/50\n",
      "678/678 [==============================] - 3s 4ms/step - loss: 0.6444 - accuracy: 0.6345 - val_loss: 0.6581 - val_accuracy: 0.6061\n",
      "Epoch 47/50\n",
      "678/678 [==============================] - 3s 4ms/step - loss: 0.6444 - accuracy: 0.6351 - val_loss: 0.6459 - val_accuracy: 0.6234\n",
      "Epoch 48/50\n",
      "678/678 [==============================] - 3s 4ms/step - loss: 0.6445 - accuracy: 0.6340 - val_loss: 0.6439 - val_accuracy: 0.6229\n",
      "Epoch 49/50\n",
      "678/678 [==============================] - 3s 4ms/step - loss: 0.6445 - accuracy: 0.6343 - val_loss: 0.6418 - val_accuracy: 0.6236\n",
      "Epoch 50/50\n",
      "678/678 [==============================] - 3s 4ms/step - loss: 0.6443 - accuracy: 0.6350 - val_loss: 0.6311 - val_accuracy: 0.6414\n"
     ]
    }
   ],
   "source": [
    "# Fit the baseline model\n",
    "results = neural_network2.fit(X_train, y_train_res, epochs=50, batch_size=256,\n",
    "                                      validation_data=(X_val, y_val))"
   ]
  },
  {
   "cell_type": "code",
   "execution_count": 47,
   "metadata": {},
   "outputs": [
    {
     "name": "stdout",
     "output_type": "stream",
     "text": [
      "5419/5419 [==============================] - 6s 1ms/step - loss: 3.3523 - accuracy: 0.5326\n",
      "Training data results:\n",
      "[3.352281332015991, 0.5325697064399719]\n",
      "\n",
      "\n",
      "2278/2278 [==============================] - 2s 1ms/step - loss: 0.6311 - accuracy: 0.6414\n",
      "Validation data results:\n",
      "[0.6310626864433289, 0.6413652300834656]\n"
     ]
    },
    {
     "data": {
      "image/png": "[encoded data removed]",
      "text/plain": [
       "<Figure size 720x576 with 1 Axes>"
      ]
     },
     "metadata": {},
     "output_type": "display_data"
    }
   ],
   "source": [
    "# Evaluate the loss and accuracy scores for the training and validation datasets\n",
    "print(f'Training data results:\\n{neural_network2.evaluate(X_train_res, y_train_res)}')\n",
    "print('\\n')\n",
    "print(f'Validation data results:\\n{neural_network2.evaluate(X_val, y_val)}')\n",
    "\n",
    "# Generate predictions and \"round\" the values\n",
    "y_preds2 = neural_network2.predict(X_val)\n",
    "y_preds2[y_preds2 > 0.5] = 1\n",
    "y_preds2[y_preds2 < 0.5] = 0\n",
    "\n",
    "# Plot a confusion matrix of the validation data\n",
    "plt.figure(figsize=(10, 8))\n",
    "sns.heatmap(confusion_matrix(y_val, y_preds2), annot=True,\n",
    "           fmt='.1f', xticklabels=['Not Delayed', 'Delayed'],\n",
    "           yticklabels=['Not Delayed', 'Delayed'], cmap='OrRd', cbar=False)\n",
    "plt.xlabel(\"Predicted Labels\")\n",
    "plt.ylabel(\"True Labels\")\n",
    "plt.show()"
   ]
  },
  {
   "cell_type": "markdown",
   "metadata": {},
   "source": [
    "Based on the training and validation accuracies, I see that my model improved! Despite the fact that my validation accuracy is still low at 64.1%, the neural network's performance improved, which is also evident from the confusion matrix. My false positive count was reduced from 26,025 to 20,729, which is exactly what I aimed for, but is still not enough. Unfortunately, my true positive count decreased as well, which is a problem. I print out the three metrics once again to get a better idea of my model's performance."
   ]
  },
  {
   "cell_type": "code",
   "execution_count": 48,
   "metadata": {},
   "outputs": [
    {
     "name": "stdout",
     "output_type": "stream",
     "text": [
      "Precision score: 30.28 %\n",
      "Recall score: 62.49 %\n",
      "F1 score: 40.79 %\n"
     ]
    }
   ],
   "source": [
    "# Run the metrics function\n",
    "model_metrics(y_val, y_preds2)"
   ]
  },
  {
   "cell_type": "markdown",
   "metadata": {},
   "source": [
    "I see that the three scores above correlate with what I deduced - the precision score increased to 30.3% and the recall score decreased to 62.5%, which is to be expected after seeing the false positive and true positive counts change, respectively. I will create one more neural network to try to improve my false positive count a little further. Below I create another network, reverting back to my baseline architecture."
   ]
  },
  {
   "cell_type": "code",
   "execution_count": 49,
   "metadata": {},
   "outputs": [
    {
     "name": "stdout",
     "output_type": "stream",
     "text": [
      "Model: \"sequential_2\"\n",
      "_________________________________________________________________\n",
      "Layer (type)                 Output Shape              Param #   \n",
      "=================================================================\n",
      "dense_7 (Dense)              (None, 64)                8960      \n",
      "_________________________________________________________________\n",
      "dense_8 (Dense)              (None, 16)                1040      \n",
      "_________________________________________________________________\n",
      "dense_9 (Dense)              (None, 1)                 17        \n",
      "=================================================================\n",
      "Total params: 10,017\n",
      "Trainable params: 10,017\n",
      "Non-trainable params: 0\n",
      "_________________________________________________________________\n"
     ]
    }
   ],
   "source": [
    "# Create a neural network similar to the baseline\n",
    "neural_network3 = Sequential()\n",
    "neural_network3.add(Dense(64, activation='relu', \n",
    "                            kernel_regularizer=regularizers.l2(0.01), input_shape=(139, )))\n",
    "neural_network3.add(Dense(16, activation='relu'))\n",
    "neural_network3.add(Dense(1, activation='sigmoid'))\n",
    "\n",
    "# Compile the baseline model\n",
    "neural_network3.compile(loss='binary_crossentropy', optimizer='adam', metrics=['accuracy'])\n",
    "\n",
    "# List a summary of the baseline model\n",
    "neural_network3.summary()"
   ]
  },
  {
   "cell_type": "markdown",
   "metadata": {},
   "source": [
    "This iteration will differ from the other two networks I built by increasing the epochs to 128, but I will also set a stopping condition with the `EarlyStopping` function, and save that checkpoint as my \"best model\" with the `ModelCheckpoint` function. I will pass this stopping condition as I fit my model, evaluating it once again on my validation data. "
   ]
  },
  {
   "cell_type": "code",
   "execution_count": 50,
   "metadata": {},
   "outputs": [],
   "source": [
    "# Create a file name object for the best model checkpoint\n",
    "model_filepath = 'best_model.h5'\n",
    "\n",
    "# Set early stopping and model checkpoint conditions\n",
    "early_stopping = [EarlyStopping(monitor='val_loss', patience=6), \n",
    "                  ModelCheckpoint(filepath=model_filepath, monitor='val_loss', save_best_only=True)]"
   ]
  },
  {
   "cell_type": "code",
   "execution_count": 51,
   "metadata": {},
   "outputs": [
    {
     "name": "stdout",
     "output_type": "stream",
     "text": [
      "Epoch 1/128\n",
      "678/678 [==============================] - 3s 4ms/step - loss: 0.7359 - accuracy: 0.6040 - val_loss: 0.6519 - val_accuracy: 0.5974\n",
      "Epoch 2/128\n",
      "678/678 [==============================] - 2s 4ms/step - loss: 0.6573 - accuracy: 0.6142 - val_loss: 0.6599 - val_accuracy: 0.5961\n",
      "Epoch 3/128\n",
      "678/678 [==============================] - 2s 3ms/step - loss: 0.6550 - accuracy: 0.6188 - val_loss: 0.6552 - val_accuracy: 0.6011\n",
      "Epoch 4/128\n",
      "678/678 [==============================] - 2s 4ms/step - loss: 0.6528 - accuracy: 0.6217 - val_loss: 0.6144 - val_accuracy: 0.6543\n",
      "Epoch 5/128\n",
      "678/678 [==============================] - 3s 4ms/step - loss: 0.6507 - accuracy: 0.6247 - val_loss: 0.7023 - val_accuracy: 0.5416\n",
      "Epoch 6/128\n",
      "678/678 [==============================] - 3s 4ms/step - loss: 0.6497 - accuracy: 0.6277 - val_loss: 0.6338 - val_accuracy: 0.6379\n",
      "Epoch 7/128\n",
      "678/678 [==============================] - 2s 3ms/step - loss: 0.6488 - accuracy: 0.6295 - val_loss: 0.6706 - val_accuracy: 0.5802\n",
      "Epoch 8/128\n",
      "678/678 [==============================] - 3s 4ms/step - loss: 0.6476 - accuracy: 0.6304 - val_loss: 0.6223 - val_accuracy: 0.6538\n",
      "Epoch 9/128\n",
      "678/678 [==============================] - 2s 3ms/step - loss: 0.6473 - accuracy: 0.6298 - val_loss: 0.6417 - val_accuracy: 0.6309\n",
      "Epoch 10/128\n",
      "678/678 [==============================] - 3s 4ms/step - loss: 0.6465 - accuracy: 0.6319 - val_loss: 0.6306 - val_accuracy: 0.6399\n"
     ]
    }
   ],
   "source": [
    "# Fit the baseline model with more epochs\n",
    "results2 = neural_network3.fit(X_train, y_train_res, epochs=128, batch_size=256, callbacks=early_stopping,\n",
    "                                      validation_data=(X_val, y_val))"
   ]
  },
  {
   "cell_type": "markdown",
   "metadata": {},
   "source": [
    "I see that my model has stopped after 10 epochs! Now I will take that saved model, load it, and evaluate the model on the training and validation data to view its accuracy. I will also plot the confusion matrix, and see how the model performed. "
   ]
  },
  {
   "cell_type": "code",
   "execution_count": 52,
   "metadata": {},
   "outputs": [
    {
     "name": "stdout",
     "output_type": "stream",
     "text": [
      "5419/5419 [==============================] - 6s 1ms/step - loss: 0.6511 - accuracy: 0.6269\n",
      "Training Loss: 0.651 \n",
      "Training Accuracy: 0.627\n",
      "----------\n",
      "2278/2278 [==============================] - 2s 1ms/step - loss: 0.6144 - accuracy: 0.6543\n",
      "Validation Loss: 0.614 \n",
      "Validation Accuracy: 0.654\n"
     ]
    }
   ],
   "source": [
    "# Load the best (saved) model for the augmented data\n",
    "saved_model = load_model(model_filepath)\n",
    "\n",
    "# Calculate the loss and accuracy scores for both training datasets\n",
    "results_train = saved_model.evaluate(X_train, y_train_res)\n",
    "print(f'Training Loss: {results_train[0]:.3} \\nTraining Accuracy: {results_train[1]:.3}')\n",
    "\n",
    "print('----------')\n",
    "\n",
    "results_val = saved_model.evaluate(X_val, y_val)\n",
    "print(f'Validation Loss: {results_val[0]:.3} \\nValidation Accuracy: {results_val[1]:.3}')"
   ]
  },
  {
   "cell_type": "code",
   "execution_count": 53,
   "metadata": {},
   "outputs": [
    {
     "data": {
      "image/png": "[encoded data removed]",
      "text/plain": [
       "<Figure size 720x576 with 1 Axes>"
      ]
     },
     "metadata": {},
     "output_type": "display_data"
    }
   ],
   "source": [
    "# Generate predictions and \"round\" the values\n",
    "y_val_preds = saved_model.predict(X_val)\n",
    "y_val_preds[y_val_preds > 0.5] = 1\n",
    "y_val_preds[y_val_preds < 0.5] = 0\n",
    "\n",
    "# Plot a confusion matrix of the validation data\n",
    "plt.figure(figsize=(10, 8))\n",
    "sns.heatmap(confusion_matrix(y_val, y_val_preds), annot=True,\n",
    "           fmt='.1f', xticklabels=['Not Delayed', 'Delayed'],\n",
    "           yticklabels=['Not Delayed', 'Delayed'], cmap='OrRd', cbar=False)\n",
    "plt.xlabel(\"Predicted Labels\")\n",
    "plt.ylabel(\"True Labels\")\n",
    "plt.show()"
   ]
  },
  {
   "cell_type": "markdown",
   "metadata": {},
   "source": [
    "This model predicted the least amount of false positive cases! Although the other metrics leave something to be desired, I can at least see that my model is improving, especially in its precision. The false positive cases amount to 19,068, which makes this good enough to serve as my final model (which is luckily already saved). I will take another look at the metrics scores. I see that the model is 30.3% precise, has a recall of 57.5%, and its f1 score is at 39.7%. "
   ]
  },
  {
   "cell_type": "code",
   "execution_count": 54,
   "metadata": {},
   "outputs": [
    {
     "name": "stdout",
     "output_type": "stream",
     "text": [
      "Precision score: 30.28 %\n",
      "Recall score: 57.49 %\n",
      "F1 score: 39.67 %\n"
     ]
    }
   ],
   "source": [
    "# Calculate the relevant metrics\n",
    "model_metrics(y_val, y_val_preds)"
   ]
  },
  {
   "cell_type": "markdown",
   "metadata": {},
   "source": [
    "## Evaluation\n"
   ]
  },
  {
   "cell_type": "markdown",
   "metadata": {},
   "source": [
    "Now that I have my \"best\" model, I will see how it performs on my test data. I will generate the predictions, and print the three scores plus its accuracy to get a full idea of how efficient my model is. Fortunately, the model has been already saved and has been included in the repository as my means of deployment. "
   ]
  },
  {
   "cell_type": "code",
   "execution_count": 55,
   "metadata": {},
   "outputs": [
    {
     "name": "stdout",
     "output_type": "stream",
     "text": [
      "2278/2278 [==============================] - 2s 952us/step - loss: 0.6158 - accuracy: 0.6530\n",
      "Generated 72867 predictions\n",
      "Validation Loss: 0.616 \n",
      "Validation Accuracy: 0.653\n",
      "Precision score: 30.36 %\n",
      "Recall score: 57.83 %\n",
      "F1 score: 39.82 %\n"
     ]
    }
   ],
   "source": [
    "# Evaluate the test data and list the relevant metrics\n",
    "results_test = saved_model.evaluate(X_test, y_test)\n",
    "y_hat_test = saved_model.predict(X_test)\n",
    "y_hat_test[y_hat_test > 0.5] = 1\n",
    "y_hat_test[y_hat_test < 0.5] = 0\n",
    "print('Generated {} predictions'.format(len(y_hat_test)))\n",
    "print(f'Testing Loss: {results_test[0]:.3} \\nTesting Accuracy: {results_test[1]:.3}')\n",
    "model_metrics(y_test, y_hat_test)"
   ]
  },
  {
   "cell_type": "markdown",
   "metadata": {},
   "source": [
    "My model's metrics are a semblance to how it performed on my validation data - the model is 30.4% precise, has a recall of 57.8%, and an f1 score of 39.8%. The good news is my model is consistent, and doesn't generate results wildly different from what I expected. However, there's room for improvement."
   ]
  },
  {
   "cell_type": "code",
   "execution_count": 56,
   "metadata": {},
   "outputs": [
    {
     "data": {
      "image/png": "[encoded data removed]",
      "text/plain": [
       "<Figure size 720x576 with 1 Axes>"
      ]
     },
     "metadata": {},
     "output_type": "display_data"
    }
   ],
   "source": [
    "# Plot a confusion matrix of the test data\n",
    "plt.figure(figsize=(10, 8))\n",
    "sns.heatmap(confusion_matrix(y_test, y_hat_test), annot=True,\n",
    "           fmt='.1f', xticklabels=['Not Delayed', 'Delayed'],\n",
    "           yticklabels=['Not Delayed', 'Delayed'], cmap='OrRd', cbar=False)\n",
    "plt.xlabel(\"Predicted Labels\")\n",
    "plt.ylabel(\"True Labels\")\n",
    "plt.show();"
   ]
  },
  {
   "cell_type": "markdown",
   "metadata": {},
   "source": [
    "The confusion matrix above shows similar results to the last plot - there are 19,183 false positive predictions, which is still better than the past models I built and evaluated. There is also slightly more true positive cases, which gives me some hope that the model can be improved to levels that are acceptable for mass deployment. "
   ]
  },
  {
   "cell_type": "markdown",
   "metadata": {},
   "source": [
    "## Conclusion"
   ]
  },
  {
   "cell_type": "markdown",
   "metadata": {},
   "source": [
    "This analysis leads to the following conclusions:\n",
    "\n",
    "1. The neural networks performed better than the machine learning algorithms I tested, and is the path I will explore further as I aim to improve my performance.\n",
    "\n",
    "2. The model is 30.3% precise when testing and classifying flights as delayed or not delayed."
   ]
  },
  {
   "cell_type": "markdown",
   "metadata": {},
   "source": [
    "## Limitations/Further Work"
   ]
  },
  {
   "cell_type": "markdown",
   "metadata": {},
   "source": [
    "This project is limited in a few ways. First and foremost, I built my models under heavy computational constraints. Given the nature of the data, it is necessary to train models on computers that can process large and full datasets in quicker time. For example, the grid search I performed earlier took four hours to run, which hinders me from further testing and modifications. Another drawback is the class imbalance. I applied sampling methods to reduce the majority class, which made training the model easier (less data), but also removed information that may have been necessary. Therefore, gathering more data that fall in the minority class would greatly improve my precision. Lastly, and this ties with my computational constraints, I could have used a wider range of hyperparameters to perform my grid search with. Unfortunately, with limited resources, it would have taken me hours or even days to fully perform this search. However, if I had, I could have found a better set of hyperparameters that would drive up my precision.\n",
    "\n",
    "Further analyses could yield a more effective predictor, and possibly improve the algorithm's performance. Some possible courses of action I could take include:\n",
    "\n",
    "1. Training my model with better, stronger computer(s).\n",
    "2. Gathering more data with an emphasis on balancing the minority class to avoid sampling. \n",
    "3. Reducing the dimensions of my data to focus on solely weather or departing airports, in order to gain a more informative look at how certain features affect my predictions and precision. "
   ]
  },
  {
   "cell_type": "markdown",
   "metadata": {},
   "source": [
    "## Sources\n",
    "Link to original dataset: \n",
    "https://www.kaggle.com/datasets/threnjen/2019-airline-delays-and-cancellations/data?select=full_data_flightdelay.csv\n",
    "\n",
    "Wall Street Journal annual airlines ranking report:\n",
    "https://www.wsj.com/lifestyle/travel/best-airlines-us-2023-36e9ea20\n",
    "\n",
    "Bureau of Transportation Statistics:\n",
    "https://www.transtats.bts.gov/HomeDrillChart.asp\n",
    "\n",
    "Federal Aviation Administration (FAA):\n",
    "https://aspm.faa.gov/aspmhelp/index/Types_of_Delay.html"
   ]
  }
 ],
 "metadata": {
  "kernelspec": {
   "display_name": "Python (learn-env",
   "language": "python",
   "name": "learn-env"
  },
  "language_info": {
   "codemirror_mode": {
    "name": "ipython",
    "version": 3
   },
   "file_extension": ".py",
   "mimetype": "text/x-python",
   "name": "python",
   "nbconvert_exporter": "python",
   "pygments_lexer": "ipython3",
   "version": "3.8.5"
  }
 },
 "nbformat": 4,
 "nbformat_minor": 4
}
